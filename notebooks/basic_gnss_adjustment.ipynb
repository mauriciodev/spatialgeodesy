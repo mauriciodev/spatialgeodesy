{
  "nbformat": 4,
  "nbformat_minor": 0,
  "metadata": {
    "colab": {
      "provenance": [],
      "include_colab_link": true
    },
    "kernelspec": {
      "name": "python3",
      "display_name": "Python 3"
    },
    "language_info": {
      "name": "python"
    }
  },
  "cells": [
    {
      "cell_type": "markdown",
      "metadata": {
        "id": "view-in-github",
        "colab_type": "text"
      },
      "source": [
        "<a href=\"https://colab.research.google.com/github/mauriciodev/spatialgeodesy/blob/main/notebooks/basic_gnss_adjustment.ipynb\" target=\"_parent\"><img src=\"https://colab.research.google.com/assets/colab-badge.svg\" alt=\"Open In Colab\"/></a>"
      ]
    },
    {
      "cell_type": "markdown",
      "metadata": {
        "id": "PrsEeA4hdFlG"
      },
      "source": [
        "# Basic GNSS adjustment"
      ]
    },
    {
      "cell_type": "markdown",
      "metadata": {
        "id": "4_YapHJhgTSw"
      },
      "source": [
        "Calculate the SPJA coordinates given SPFR, EESC and SJRP coordinates and their GNSS baselines.\n",
        "\n",
        "Theoretical explanation: https://www.youtube.com/watch?v=_9sWpabRCz4"
      ]
    },
    {
      "cell_type": "markdown",
      "metadata": {
        "id": "LHC4L7iwh9w_"
      },
      "source": [
        "![image.png](data:image/png;base64,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)"
      ]
    },
    {
      "cell_type": "code",
      "metadata": {
        "id": "7SGHvLRajCLt"
      },
      "source": [
        "stationsData=\"\"\"Station,X (m),Sigma X (m),Y (m),Sigma Y (m),Z (m),Sigma Z (m)\n",
        "EESC,3967006.963,0.001,-4390247.349,0.003,-2375229.945,0.002\n",
        "SJRP,3885706.901,0.002,-4527123.948,0.001,-2249400.141,0.003\n",
        "SPFR,4046871.081,0.003,-4398880.413,0.001,-2221086.61,0.002\"\"\"\n",
        "\n",
        "baselinesData=\"\"\"Base lines,DX (m),DY (m),DZ (m),sigma DX (m),sigma DY (m),sigma DZ (m)\n",
        "SJRP->SPJA, 72099.729, 87054.252, -47099.698, 0.031, 0.036, 0.023\n",
        "SPFR->SPJA, -89064.46, -41189.29, -75413.234, 0.034, 0.034, 0.022\n",
        "EESC->SPJA, -9200.333, -49822.35, 78730.108, 0.028, 0.031, 0.02\"\"\""
      ],
      "execution_count": null,
      "outputs": []
    },
    {
      "cell_type": "markdown",
      "metadata": {
        "id": "gTkxuXhxdcwo"
      },
      "source": [
        "# Libraries"
      ]
    },
    {
      "cell_type": "code",
      "metadata": {
        "id": "rBZEYgtMh4n7"
      },
      "source": [
        "#Imported libraries\n",
        "import os\n",
        "import numpy as np\n",
        "from numpy import *\n",
        "import pandas as pd\n",
        "import matplotlib.pyplot as plt\n",
        "from io import StringIO ## for Python 3\n",
        "\n",
        "np.set_printoptions(edgeitems=30, linewidth=150, formatter={'float': lambda x: \"{0:0.5f}\".format(x)})"
      ],
      "execution_count": null,
      "outputs": []
    },
    {
      "cell_type": "code",
      "metadata": {
        "id": "aMB4uURuPr1w"
      },
      "source": [
        "def numpy2latex(a):\n",
        "    print('\\\\begin{gather}')\n",
        "    lines = str(a).replace('[', '').replace(']', '').splitlines()\n",
        "    rv = [r'\\begin{bmatrix}']\n",
        "    rv += ['  ' + ' & '.join(l.split()) + r'\\\\' for l in lines]\n",
        "    rv +=  [r'\\end{bmatrix}']\n",
        "    print('\\n'.join(rv))\n",
        "    print('\\\\end{gather}')"
      ],
      "execution_count": null,
      "outputs": []
    },
    {
      "cell_type": "markdown",
      "metadata": {
        "id": "CnOoIYY0vFzE"
      },
      "source": [
        "# Input data"
      ]
    },
    {
      "cell_type": "code",
      "metadata": {
        "id": "t5eul6sfh0Wa"
      },
      "source": [
        "stationsDF=pd.read_csv(StringIO(stationsData)).sort_values(by=\"Station\")\n",
        "stationsDF"
      ],
      "execution_count": null,
      "outputs": []
    },
    {
      "cell_type": "code",
      "metadata": {
        "id": "_mPLc3mbkm1z"
      },
      "source": [
        "baselinesDF=pd.read_csv(StringIO(baselinesData)).sort_values(by=\"Base lines\")\n",
        "baselinesDF"
      ],
      "execution_count": null,
      "outputs": []
    },
    {
      "cell_type": "markdown",
      "metadata": {
        "id": "xPHfRH4JnBin"
      },
      "source": [
        "# Reorganizing observations"
      ]
    },
    {
      "cell_type": "code",
      "metadata": {
        "id": "CBXf8yO-nD6g"
      },
      "source": [
        "observations=baselinesDF[[\"DX (m)\",\t\"DY (m)\",\t\"DZ (m)\"]].to_numpy() #Measures for each station XYZ\n",
        "observations=observations.flatten() #making a single column so it's: [x,y,z,x,y,z,x,y,z]\n",
        "observations"
      ],
      "execution_count": null,
      "outputs": []
    },
    {
      "cell_type": "code",
      "metadata": {
        "id": "oujv0Rh4zZXx"
      },
      "source": [
        "obsSigma=baselinesDF[[\"sigma DX (m)\",\t\"sigma DY (m)\",\t\"sigma DZ (m)\"]].to_numpy() #std Deviation for each\n",
        "obsSigma=obsSigma.flatten()\n",
        "obsSigma"
      ],
      "execution_count": null,
      "outputs": []
    },
    {
      "cell_type": "code",
      "metadata": {
        "id": "TSqhbFiAyvYm"
      },
      "source": [
        "baseCoords=stationsDF[[\"X (m)\",\t\"Y (m)\",\t\"Z (m)\"]].to_numpy() #Coordinates for each station\n",
        "baseCoords=baseCoords.flatten()\n",
        "baseCoords"
      ],
      "execution_count": null,
      "outputs": []
    },
    {
      "cell_type": "code",
      "metadata": {
        "id": "kmcsLWjdzPw8"
      },
      "source": [
        "baseSigma=stationsDF[[\"Sigma X (m)\",\t\"Sigma Y (m)\",\t\"Sigma Z (m)\"]].to_numpy() #Coordinates for each station\n",
        "baseSigma=baseSigma.flatten()\n",
        "baseSigma"
      ],
      "execution_count": null,
      "outputs": []
    },
    {
      "cell_type": "markdown",
      "metadata": {
        "id": "3vCqN0w_m563"
      },
      "source": [
        "# Least squares network adjustment"
      ]
    },
    {
      "cell_type": "markdown",
      "metadata": {
        "id": "ykUebgfnzCA5"
      },
      "source": [
        "## Absolute injunction\n",
        "Base coordinates are added."
      ]
    },
    {
      "cell_type": "markdown",
      "metadata": {
        "id": "RrZvyY8m69DB"
      },
      "source": [
        "![image.png](data:image/png;base64,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)"
      ]
    },
    {
      "cell_type": "code",
      "metadata": {
        "id": "uZIWIwoI0OpM"
      },
      "source": [
        "A=np.tile(np.identity(3),(3,1)) #concatenating identities to make A\n",
        "A"
      ],
      "execution_count": null,
      "outputs": []
    },
    {
      "cell_type": "code",
      "metadata": {
        "id": "ZSPh-TJB0drM"
      },
      "source": [
        "#Observations\n",
        "L=baseCoords+observations\n",
        "L"
      ],
      "execution_count": null,
      "outputs": []
    },
    {
      "cell_type": "code",
      "metadata": {
        "id": "0bid6CPK0nIg"
      },
      "source": [
        "#variance propagation\n",
        "sigmas=np.sqrt(obsSigma**2+baseSigma*2)\n",
        "#sigmas=obsSigma\n",
        "#building the diagonal matrix\n",
        "P=np.linalg.inv(np.diag(sigmas**2))\n",
        "P"
      ],
      "execution_count": null,
      "outputs": []
    },
    {
      "cell_type": "code",
      "metadata": {
        "id": "cMV9k3wMm8QX"
      },
      "source": [
        "#least squares\n",
        "AtPA_inv=np.linalg.inv(A.T @ P @ A)\n",
        "X_fit=AtPA_inv @ A.T @ P @ L\n",
        "#least squares using numpy\n",
        "#X_fit=np.linalg.lstsq(A, L,rcond=None)[0]\n",
        "X_fit "
      ],
      "execution_count": null,
      "outputs": []
    },
    {
      "cell_type": "markdown",
      "metadata": {
        "id": "BnCMb45m2owl"
      },
      "source": [
        "Expected (from RBMC): \\\\\n",
        "X: 3.957.806,6961 m \\\\\n",
        "Y: -4.440.069,7850 m \\\\\n",
        "Z: -2.296.499,8742 m \\\\"
      ]
    },
    {
      "cell_type": "markdown",
      "metadata": {
        "id": "_5Le8OK83src"
      },
      "source": [
        "## Relative injunction\n",
        "Coordinates of the bases are treated as observations too."
      ]
    },
    {
      "cell_type": "markdown",
      "metadata": {
        "id": "AGJpBO3JX2N_"
      },
      "source": [
        "## Design Matrix"
      ]
    },
    {
      "cell_type": "code",
      "metadata": {
        "id": "YVa8iqe130Nx"
      },
      "source": [
        "nstations=3\n",
        "#concatenating identities to make A, same as above.\n",
        "A=np.tile(np.identity(3),(nstations,1)) \n",
        "#adding the difference to the base coordinates\n",
        "A=np.concatenate((A,np.identity(9)*-1),axis=1)\n",
        "#adding the coordinates observations\n",
        "A2=np.tile(np.zeros((3,3)),(nstations,1)) \n",
        "A2=np.concatenate((A2,np.identity(9)),axis=1)\n",
        "A2\n",
        "A=np.concatenate((A,A2), axis=0)\n",
        "A"
      ],
      "execution_count": null,
      "outputs": []
    },
    {
      "cell_type": "markdown",
      "metadata": {
        "id": "J2TwzgysX0FA"
      },
      "source": [
        "##Observations\n"
      ]
    },
    {
      "cell_type": "code",
      "metadata": {
        "id": "gjoZmW5g_uPH"
      },
      "source": [
        "Lb=np.concatenate((observations,baseCoords))\n",
        "numpy2latex(Lb)"
      ],
      "execution_count": null,
      "outputs": []
    },
    {
      "cell_type": "markdown",
      "metadata": {
        "id": "2Ud7WPm1XvIu"
      },
      "source": [
        "## variance propagation\n"
      ]
    },
    {
      "cell_type": "code",
      "metadata": {
        "id": "87wjCGDg_SPL"
      },
      "source": [
        "sigmas=np.concatenate((obsSigma,baseSigma))\n",
        "#sigmas=obsSigma\n",
        "#building the diagonal matrix\n",
        "MVC_Lb=np.diag(sigmas**2)\n",
        "print(MVC_Lb)"
      ],
      "execution_count": null,
      "outputs": []
    },
    {
      "cell_type": "markdown",
      "metadata": {
        "id": "6OX457P5YCPQ"
      },
      "source": [
        " ## Weights\n",
        " Based on the variance covariance matrix"
      ]
    },
    {
      "cell_type": "code",
      "metadata": {
        "id": "lq3V8U3WQVvn"
      },
      "source": [
        "sigma0=1\n",
        "P=sigma0**2*np.linalg.inv(MVC_Lb)\n",
        "print(P)"
      ],
      "execution_count": null,
      "outputs": []
    },
    {
      "cell_type": "markdown",
      "metadata": {
        "id": "LfRC3mwBYKuw"
      },
      "source": [
        "## Least squares fitting\n"
      ]
    },
    {
      "cell_type": "code",
      "metadata": {
        "id": "2VShDmUi_3aR"
      },
      "source": [
        "AtPA_inv=np.linalg.inv(A.T @ P @ A)\n",
        "X_fit=AtPA_inv @ A.T @ P @ Lb\n",
        "X_fit "
      ],
      "execution_count": null,
      "outputs": []
    },
    {
      "cell_type": "code",
      "metadata": {
        "id": "7kd3BtUlAJD8"
      },
      "source": [
        "print(\"Coordinates:\", X_fit[:3])"
      ],
      "execution_count": null,
      "outputs": []
    },
    {
      "cell_type": "markdown",
      "metadata": {
        "id": "mOS9S4HeP7Ba"
      },
      "source": [
        "Expected (from RBMC): \\\\\n",
        "X: 3.957.806,6961 m \\\\\n",
        "Y: -4.440.069,7850 m \\\\\n",
        "Z: -2.296.499,8742 m \\\\"
      ]
    },
    {
      "cell_type": "code",
      "metadata": {
        "id": "MiPmwwmdXPbM"
      },
      "source": [
        "dof=len(Lb)-len(X_fit)\n",
        "print(\"Degrees of freedom:\",dof)"
      ],
      "execution_count": null,
      "outputs": []
    },
    {
      "cell_type": "code",
      "metadata": {
        "id": "7bjaIBVrTpbQ"
      },
      "source": [
        "V=Lb-A @ X_fit\n",
        "sigma2=V.T @ P @ V \n",
        "print(\"Variance:\",sigma2)\n",
        "\n",
        "MVC_Xa=sigma2*AtPA_inv\n",
        "print(\"Variance Covariance Matrix for the adjusted values\")\n",
        "print(MVC_Xa)\n",
        "\n",
        "print(\"Standard deviation:\",np.sqrt(MVC_Xa.diagonal()))\n",
        "\n",
        "MVC_La=A @ MVC_Xa @ A.T\n",
        "print(\"Variance Covariance Matrix for the adjusted observations\")\n",
        "print(MVC_La)\n",
        "\n",
        "MVC_v=MVC_Lb+MVC_La\n",
        "print(\"Variance Covariance Matrix for the residuals\")\n",
        "print(MVC_v)"
      ],
      "execution_count": null,
      "outputs": []
    },
    {
      "cell_type": "markdown",
      "metadata": {
        "id": "LWqTqYZAXrpK"
      },
      "source": [
        "## Chi square test"
      ]
    },
    {
      "cell_type": "code",
      "metadata": {
        "id": "NgMOQKGaYsEC"
      },
      "source": [
        "from scipy.stats import chi2"
      ],
      "execution_count": null,
      "outputs": []
    },
    {
      "cell_type": "code",
      "metadata": {
        "id": "Vo9i4V4bZERT"
      },
      "source": [
        "prob = 0.975\n",
        "critical = chi2.ppf(prob, dof)\n",
        "print('probability=%.3f, critical=%.3f' % (prob, critical))"
      ],
      "execution_count": null,
      "outputs": []
    },
    {
      "cell_type": "code",
      "metadata": {
        "id": "ElwFoTXgaL29"
      },
      "source": [
        "sigma2"
      ],
      "execution_count": null,
      "outputs": []
    },
    {
      "cell_type": "code",
      "metadata": {
        "id": "qqqK_V7RZp0d"
      },
      "source": [
        "T= sigma2/sigma0**2 *dof\n",
        "T"
      ],
      "execution_count": null,
      "outputs": []
    },
    {
      "cell_type": "code",
      "metadata": {
        "id": "WDhCzSoTZ0zW"
      },
      "source": [
        "if T<critical:\n",
        "  print(\"Passed.\")\n",
        "else:\n",
        "  print(\"Reproved.\")"
      ],
      "execution_count": null,
      "outputs": []
    },
    {
      "cell_type": "markdown",
      "metadata": {
        "id": "P_0u9i26PwdZ"
      },
      "source": [
        "# Latex matrices"
      ]
    },
    {
      "cell_type": "code",
      "metadata": {
        "id": "D9-9k2ZKPzGq"
      },
      "source": [
        "#np.set_printoptions(edgeitems=30, linewidth=150, formatter={'float': lambda x: \"{0:0.2f}\".format(x)})\n",
        "numpy2latex(MVC_Lb*1000)"
      ],
      "execution_count": null,
      "outputs": []
    },
    {
      "cell_type": "code",
      "metadata": {
        "id": "5GSmZRaJPrkq"
      },
      "source": [
        "numpy2latex(A @ X_fit) #La"
      ],
      "execution_count": null,
      "outputs": []
    },
    {
      "cell_type": "code",
      "metadata": {
        "id": "Fx6w5cb1YjPT"
      },
      "source": [
        "numpy2latex(X_fit) #Xa"
      ],
      "execution_count": null,
      "outputs": []
    }
  ]
}