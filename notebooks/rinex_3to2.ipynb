{
  "nbformat": 4,
  "nbformat_minor": 0,
  "metadata": {
    "colab": {
      "provenance": [],
      "collapsed_sections": [
        "5wxtz81J11OQ",
        "uVJe9Fcj1vuz",
        "7EemZYtp15wY",
        "CsCUaxGuD5ke"
      ]
    },
    "kernelspec": {
      "name": "python3",
      "display_name": "Python 3"
    },
    "language_info": {
      "name": "python"
    }
  },
  "cells": [
    {
      "cell_type": "markdown",
      "metadata": {
        "id": "qR_phpiq6MHw"
      },
      "source": [
        "# Introduction\n",
        "\n",
        "This exercise shows how to download RBMC observation files in RINEX 3, compile and run the utilities needed to transform it to RINEX 2.11.\n",
        "\n",
        "This notebook uses crx2rnx,cnvrnx2-rnx2-v3  and teqc to perform the transformations.\n",
        "\n",
        "Change the URL bellow to use a different file."
      ]
    },
    {
      "cell_type": "code",
      "metadata": {
        "id": "CjLcms--FyVF"
      },
      "source": [
        "link=\"\"\"https://geoftp.ibge.gov.br/informacoes_sobre_posicionamento_geodesico/rbmc/dados_RINEX3/2021/236/RJNI00BRA_R_20212360000_01D_15S_MO.crx.gz\"\"\"\n",
        "rbmcfile=link.split(\"/\")[-1]"
      ],
      "execution_count": null,
      "outputs": []
    },
    {
      "cell_type": "markdown",
      "metadata": {
        "id": "68Ww55gqEAP5"
      },
      "source": [
        "# cnvrnx3"
      ]
    },
    {
      "cell_type": "markdown",
      "metadata": {
        "id": "5wxtz81J11OQ"
      },
      "source": [
        "## Downloading source code "
      ]
    },
    {
      "cell_type": "code",
      "metadata": {
        "colab": {
          "base_uri": "https://localhost:8080/"
        },
        "id": "cACDU4c6rQiq",
        "outputId": "96c796af-62a9-44fe-d833-5ca4ed6f839e"
      },
      "source": [
        "!wget \"http://acc.igs.org/misc/cnvrnx3-rnx2-v3.f\"\n",
        "fname='cnvrnx3-rnx2-v3.f'"
      ],
      "execution_count": null,
      "outputs": [
        {
          "output_type": "stream",
          "name": "stdout",
          "text": [
            "--2021-11-01 19:42:40--  http://acc.igs.org/misc/cnvrnx3-rnx2-v3.f\n",
            "Resolving acc.igs.org (acc.igs.org)... 52.29.216.227\n",
            "Connecting to acc.igs.org (acc.igs.org)|52.29.216.227|:80... connected.\n",
            "HTTP request sent, awaiting response... 200 OK\n",
            "Length: 71023 (69K) [text/plain]\n",
            "Saving to: ‘cnvrnx3-rnx2-v3.f.1’\n",
            "\n",
            "cnvrnx3-rnx2-v3.f.1 100%[===================>]  69.36K   324KB/s    in 0.2s    \n",
            "\n",
            "2021-11-01 19:42:41 (324 KB/s) - ‘cnvrnx3-rnx2-v3.f.1’ saved [71023/71023]\n",
            "\n"
          ]
        }
      ]
    },
    {
      "cell_type": "markdown",
      "metadata": {
        "id": "uVJe9Fcj1vuz"
      },
      "source": [
        "## fixing the code for unix compilation, as the source instructed"
      ]
    },
    {
      "cell_type": "code",
      "metadata": {
        "id": "vVe0u4EVr_2u"
      },
      "source": [
        "fcode=open(fname,'r')\n",
        "linuxCode=fcode.read()\n",
        "linuxCode=linuxCode.replace(\n",
        "\"\"\"C WINDOWS (Intel Visual Fortran)          ! Comment or uncomment\n",
        "      call getarg(1,rnxfilev3,istatus1)   ! the following statements\n",
        "      call getarg(2,cicreate,istatus2)    ! to switch from WINDOWS to UNIX/LINUX\n",
        "      call getarg(3,gr,istatus3)\n",
        "      slash = '\\\\'\n",
        "    5 continue\n",
        "      if(istatus1.gt.100.or.istatus2.ne.2.\n",
        "     .or.istatus3.ne.1.or.ibad.eq.1) then\"\"\",\n",
        "\"\"\"C WINDOWS (Intel Visual Fortran)          ! Comment or uncomment\n",
        "c      call getarg(1,rnxfilev3,istatus1)   ! the following statements\n",
        "c      call getarg(2,cicreate,istatus2)    ! to switch from WINDOWS to UNIX/LINUX\n",
        "c      call getarg(3,gr,istatus3)\n",
        "c      slash = '\\\\'\n",
        "c    5 continue\n",
        "c      if(istatus1.gt.100.or.istatus2.ne.2.\n",
        "c     .or.istatus3.ne.1.or.ibad.eq.1) then\"\"\")\n",
        "linuxCode=linuxCode.replace(\"\"\"c     call getarg(1,rnxfilev3)\n",
        "c     call getarg(2,cicreate)\n",
        "c     call getarg(3,gr)\n",
        "c     slash = '/'\n",
        "c   5 continue\n",
        "c     if(ibad.eq.1) then\"\"\",    \n",
        "\"\"\"      call getarg(1,rnxfilev3)\n",
        "      call getarg(2,cicreate)\n",
        "      call getarg(3,gr)\n",
        "      slash = '/'\n",
        "    5 continue\n",
        "      if(ibad.eq.1) then\"\"\"\n",
        ")\n",
        "fLinuxCode=open('tempcode.f','w')\n",
        "fLinuxCode.write(linuxCode)\n",
        "fLinuxCode.close()\n"
      ],
      "execution_count": null,
      "outputs": []
    },
    {
      "cell_type": "markdown",
      "metadata": {
        "id": "7EemZYtp15wY"
      },
      "source": [
        "## Compiling"
      ]
    },
    {
      "cell_type": "code",
      "metadata": {
        "id": "-DHYwKmltS8Q"
      },
      "source": [
        "!gfortran tempcode.f -o cnvrnx3-rnx2-v3 "
      ],
      "execution_count": null,
      "outputs": []
    },
    {
      "cell_type": "markdown",
      "metadata": {
        "id": "CsCUaxGuD5ke"
      },
      "source": [
        "# crx2rnx"
      ]
    },
    {
      "cell_type": "code",
      "metadata": {
        "colab": {
          "base_uri": "https://localhost:8080/"
        },
        "id": "oXFFx8OdD7je",
        "outputId": "21053b14-9fa6-4ac8-a79a-b686821d74bf"
      },
      "source": [
        "!wget https://raw.githubusercontent.com/geospace-code/georinex/main/src/georinex/rnxcmp/source/crx2rnx.c\n",
        "!gcc crx2rnx.c -o crx2rnx"
      ],
      "execution_count": null,
      "outputs": [
        {
          "output_type": "stream",
          "name": "stdout",
          "text": [
            "--2021-11-01 19:42:41--  https://raw.githubusercontent.com/geospace-code/georinex/main/src/georinex/rnxcmp/source/crx2rnx.c\n",
            "Resolving raw.githubusercontent.com (raw.githubusercontent.com)... 185.199.108.133, 185.199.109.133, 185.199.110.133, ...\n",
            "Connecting to raw.githubusercontent.com (raw.githubusercontent.com)|185.199.108.133|:443... connected.\n",
            "HTTP request sent, awaiting response... 200 OK\n",
            "Length: 36738 (36K) [text/plain]\n",
            "Saving to: ‘crx2rnx.c.1’\n",
            "\n",
            "\rcrx2rnx.c.1           0%[                    ]       0  --.-KB/s               \rcrx2rnx.c.1         100%[===================>]  35.88K  --.-KB/s    in 0.003s  \n",
            "\n",
            "2021-11-01 19:42:42 (12.0 MB/s) - ‘crx2rnx.c.1’ saved [36738/36738]\n",
            "\n"
          ]
        }
      ]
    },
    {
      "cell_type": "markdown",
      "metadata": {
        "id": "aoqktEhQ18yQ"
      },
      "source": [
        "# Running"
      ]
    },
    {
      "cell_type": "markdown",
      "metadata": {
        "id": "nv4942huF7Ee"
      },
      "source": [
        "## Downloading RINEX 3 file from RBMC"
      ]
    },
    {
      "cell_type": "code",
      "metadata": {
        "colab": {
          "base_uri": "https://localhost:8080/"
        },
        "id": "WG7_3WW12JjP",
        "outputId": "0febfd16-6458-4ccf-e6f8-8e8bd6f995bd"
      },
      "source": [
        "!wget \"$link\""
      ],
      "execution_count": null,
      "outputs": [
        {
          "output_type": "stream",
          "name": "stdout",
          "text": [
            "--2021-11-01 19:42:42--  https://geoftp.ibge.gov.br/informacoes_sobre_posicionamento_geodesico/rbmc/dados_RINEX3/2021/236/RJNI00BRA_R_20212360000_01D_15S_MO.crx.gz\n",
            "Resolving geoftp.ibge.gov.br (geoftp.ibge.gov.br)... 191.233.136.86\n",
            "Connecting to geoftp.ibge.gov.br (geoftp.ibge.gov.br)|191.233.136.86|:443... connected.\n",
            "HTTP request sent, awaiting response... 200 OK\n",
            "Length: 3558674 (3.4M) [application/x-gzip]\n",
            "Saving to: ‘RJNI00BRA_R_20212360000_01D_15S_MO.crx.gz’\n",
            "\n",
            "RJNI00BRA_R_2021236 100%[===================>]   3.39M  2.94MB/s    in 1.2s    \n",
            "\n",
            "2021-11-01 19:42:44 (2.94 MB/s) - ‘RJNI00BRA_R_20212360000_01D_15S_MO.crx.gz’ saved [3558674/3558674]\n",
            "\n"
          ]
        }
      ]
    },
    {
      "cell_type": "markdown",
      "metadata": {
        "id": "PNY-Sv-EGApL"
      },
      "source": [
        "## Unzipping and transforming from hatanaka to rnx"
      ]
    },
    {
      "cell_type": "code",
      "metadata": {
        "id": "7gNFvFLu2NcG",
        "colab": {
          "base_uri": "https://localhost:8080/"
        },
        "outputId": "0edbf322-4fcc-4f21-cf43-fc2a63e3bce6"
      },
      "source": [
        "!gunzip -f $rbmcfile\n",
        "crxfile=rbmcfile[:-3]\n",
        "!./crx2rnx $crxfile"
      ],
      "execution_count": null,
      "outputs": [
        {
          "output_type": "stream",
          "name": "stdout",
          "text": [
            "The file RJNI00BRA_R_20212360000_01D_15S_MO.rnx already exists. Overwrite?(n)y\n"
          ]
        }
      ]
    },
    {
      "cell_type": "code",
      "metadata": {
        "colab": {
          "base_uri": "https://localhost:8080/"
        },
        "id": "BdvtbgwcjIx8",
        "outputId": "06cfd914-283b-44d0-c300-70c105fff838"
      },
      "source": [
        "#Check the file sizes\n",
        "!ls -la RJ*"
      ],
      "execution_count": null,
      "outputs": [
        {
          "output_type": "stream",
          "name": "stdout",
          "text": [
            "-rw-r--r-- 1 root root  9394156 Aug 25 23:01 RJNI00BRA_R_20212360000_01D_15S_MO.crx\n",
            "-rw-r--r-- 1 root root 32487683 Nov  1 19:43 RJNI00BRA_R_20212360000_01D_15S_MO.rnx\n",
            "-rw-r--r-- 1 root root 17187579 Nov  1 19:28 RJNI00BRA_R_20212360000_01D_15S_MO.rnx.gps+glo.rnx2\n"
          ]
        }
      ]
    },
    {
      "cell_type": "markdown",
      "metadata": {
        "id": "JMW8i5U8GGpV"
      },
      "source": [
        "## Converting to rinex 3"
      ]
    },
    {
      "cell_type": "code",
      "metadata": {
        "colab": {
          "base_uri": "https://localhost:8080/"
        },
        "id": "3hg_QtPj1-OA",
        "outputId": "136ebded-dd48-411e-e331-4468135c6ea4"
      },
      "source": [
        "#This is only to show how the command works\n",
        "!./cnvrnx3-rnx2-v3"
      ],
      "execution_count": null,
      "outputs": [
        {
          "output_type": "stream",
          "name": "stdout",
          "text": [
            " \n",
            " Program \"CNVRNX3-RNX2\" V3.1.3\n",
            " for converting RINEX 3 to RINEX 2\n",
            " Copyright (C) 2012-2014 Oscar L. Colombo.\n",
            " \n",
            "  \n",
            "  ERROR in line command \"cnvrnx3-rnx2-v3\"\n",
            "  The correct command is: \n",
            "  \n",
            " \"cnvrnx3-rnx2-v3  rnxv3 i o\"\n",
            "  \n",
            "  \"rnxv3\",   = Name of the RINEX file to be converted -- up to 100 characters long.\n",
            "  \n",
            "  \"i\"    is a  2-character flag.\n",
            "  \"o\"    is a  1-character flag.\n",
            "  Make  o = g  to convert only the Rinex3 GPS data;\n",
            "          = m  to convert Rinex 3 GPS plus GLONASS data.\n",
            "  The GPS data are copied with the \"i\" options below:\n",
            "  (Glonass data are copied if their types correspond \n",
            "  to those of GPS chosen according to the \"i\" options.)\n",
            "  Because GLONASS' data are assigned places based on\n",
            "  those assigned to GPS', this program does not create \n",
            "  GLONASS data-only Rinex 2 files.\n",
            "  \n",
            "  To copy L2 and the phase of L2C if both present:\n",
            "   i = +0  (and only the RINEX2 file is created) \n",
            "  NOT to copy any L2C data, even if they are present:\n",
            "   i = -0  (and only the RINEX2 file is created) \n",
            "  To create a RINEX 3 file with only the GPS data:\n",
            "   i = 30 \n",
            "  To copy the \"heritage\" L2 phase whenever possible:\n",
            "   i = +1 if only the RINEX2 file is created;\n",
            "   i = +2 if both RINEX2 & RINEX3 files are created.\n",
            "  \n",
            "  The converted RINEX 2.11 file *does not* include Doppler.\n",
            "  If present in the RINEX 3 file, the Doppler is ignored.\n",
            "  \n",
            "  NOTE: If more than one type of L1 phase and S/N data is\n",
            "  present: one of L1(C,Y,M,W,P) and the corresponding \n",
            "  S1(C,Y,M,W,P)\n",
            "  MUST be chosen, deselecting the others by changing\n",
            "  the first letter in their labels to a \"T\" or a \"D\" \n",
            "  in the header of the input Rinex 3 file.\n",
            "  Example: L1C -> T1C, S1C ->  D1C to select L1W, S1W .\n",
            "  ALSO: one must choose just one S2(C,Y,M,W,P,X,L,S).\n",
            "  EXCEPT when option \"+0\" is entered in the command line.\n",
            "  With this option, it is OK to select one of S2(Y,M,W,P)\n",
            "  and one of S2(C,X,L,S).\n",
            "  \n",
            "  Try again.\n",
            "  \n"
          ]
        }
      ]
    },
    {
      "cell_type": "code",
      "metadata": {
        "colab": {
          "base_uri": "https://localhost:8080/"
        },
        "id": "rbAeygwLDI90",
        "outputId": "824147da-1d18-429b-9443-1d53c93c2a77"
      },
      "source": [
        "rnxfile=crxfile.replace(\".crx\",\".rnx\")\n",
        "#!./cnvrnx3-rnx2-v3 $rnxfile +0 m \n",
        "!./cnvrnx3-rnx2-v3 $rnxfile -0 m \n",
        "rnx2file=rnxfile.replace(\".rnx\",\".rnx.gps+glo.rnx2\")"
      ],
      "execution_count": null,
      "outputs": [
        {
          "output_type": "stream",
          "name": "stdout",
          "text": [
            " \n",
            " Program \"CNVRNX3-RNX2\" V3.1.3\n",
            " for converting RINEX 3 to RINEX 2\n",
            " Copyright (C) 2012-2014 Oscar L. Colombo.\n",
            " \n",
            " Processing input file RJNI00BRA_R_20212360000_01D_15S_MO.rnx\n",
            " \n",
            " Output rinex 2.11 file: RJNI00BRA_R_20212360000_01D_15S_MO.rnx.gps+glo.rnx has been created.\n",
            " \n",
            " JOB HAS ENDED\n",
            " \n"
          ]
        }
      ]
    },
    {
      "cell_type": "markdown",
      "metadata": {
        "id": "LopGBaJwGRvg"
      },
      "source": [
        "## Printing the RINEX 2 converted file\n"
      ]
    },
    {
      "cell_type": "code",
      "metadata": {
        "colab": {
          "base_uri": "https://localhost:8080/"
        },
        "id": "mjgNPW5vEzAV",
        "outputId": "c83adb12-19c3-4fa0-95c7-b15cee32def5"
      },
      "source": [
        "!head $rnx2file -n 100"
      ],
      "execution_count": null,
      "outputs": [
        {
          "output_type": "stream",
          "name": "stdout",
          "text": [
            "     2.11           OBSERVATION DATA    M (MIXED)           RINEX VERSION / TYPE\n",
            "     3.04           RINEX VERSION OF ORIGINAL FILE          COMMENT             \n",
            "NetR9 5.50          Receiver Operator   20210824 000000 UTC PGM / RUN BY / DATE \n",
            "gfzrnx-1.12-7747    FILE MERGE          20210825 052040 UTC COMMENT             \n",
            "RJNI                                                        MARKER NAME         \n",
            "48104M001                                                   MARKER NUMBER       \n",
            "RBMC                IBGE/CGED                               OBSERVER / AGENCY   \n",
            "5750R51585          TRIMBLE NETR9       5.50                REC # / TYPE / VERS \n",
            "1551129599          TRM115000.00    NONE                    ANT # / TYPE        \n",
            "     1     1                                                WAVELENGTH FACT L1/2\n",
            "        0.0080        0.0000        0.0000                  ANTENNA: DELTA H/E/N\n",
            "  4289663.4011 -4018945.7498 -2467135.8382                  APPROX POSITION XYZ \n",
            "+C2: No C2 in RINEX 3 copied, blank \"D2\" values put instead.COMMENT             \n",
            "    10    C1    L1    P2    L2    D2    S1    S2    C5    L5# / TYPES OF OBSERV \n",
            "          S5                                                # / TYPES OF OBSERV \n",
            "NO DOPPLER DATA COPIED FROM THE RINEX 3 FILE.               COMMENT             \n",
            "GPS DATA TYPES COPIED FROM THE ORIGINAL RINEX 3 FILE:       COMMENT             \n",
            "@ C1C L1C C2W L2W C2X S1C S2W C5X L5X S5X                   COMMENT             \n",
            "GLO DATA TYPES COPIED FROM THE ORIGINAL RINEX 3 FILE:       COMMENT             \n",
            "@ C1C L1P C2P L2P     S1C S2P                               COMMENT             \n",
            "NON-RINEX 2 RECORD  \"GLONASS SLOT / FRQ #\", CONTENTS BELOW: COMMENT             \n",
            " 24 R01  1 R02 -4 R03  5 R04  6 R05  1 R06 -4 R07  5 R08  6 COMMENT             \n",
            "NON-RINEX 2 RECORD  \"GLONASS SLOT / FRQ #\", CONTENTS BELOW: COMMENT             \n",
            "    R09 -2 R10 -7 R11  0 R12 -1 R13 -2 R14 -7 R15  0 R16 -1 COMMENT             \n",
            "NON-RINEX 2 RECORD  \"GLONASS SLOT / FRQ #\", CONTENTS BELOW: COMMENT             \n",
            "    R17  4 R18 -3 R19  3 R20  2 R21  4 R22 -3 R23  3 R24  2 COMMENT             \n",
            "NON-RINEX 2 RECORD  \"GLONASS COD/PHS/BIS \", CONTENTS BELOW: COMMENT             \n",
            "                                                            COMMENT             \n",
            "CODIGO: 96321 Estacao: Niteroi UFF                          COMMENT             \n",
            "NON-RINEX 2 RECORD  \"SIGNAL STRENGTH UNIT\", CONTENTS BELOW: COMMENT             \n",
            "DBHZ                                                        COMMENT             \n",
            "NON-RINEX 2 RECORD  \"SYS / PHASE SHIFT   \", CONTENTS BELOW: COMMENT             \n",
            "G L2X -0.25000                                              COMMENT             \n",
            "NON-RINEX 2 RECORD  \"SYS / PHASE SHIFT   \", CONTENTS BELOW: COMMENT             \n",
            "R L1P  0.25000                                              COMMENT             \n",
            "NON-RINEX 2 RECORD  \"SYS / PHASE SHIFT   \", CONTENTS BELOW: COMMENT             \n",
            "R L2C -0.25000                                              COMMENT             \n",
            "NON-RINEX 2 RECORD  \"MARKER TYPE         \", CONTENTS BELOW: COMMENT             \n",
            "GEODETIC                                                    COMMENT             \n",
            "    94                                                      # OF SATELLITES     \n",
            "   C11  1692  1692  1692  1691  1691  1691  1692  1692  1692PRN / # OF OBS      \n",
            "   C12  1162  1162  1162  1162  1162  1162  1162  1162  1162PRN / # OF OBS      \n",
            "   C14  2162  2162  2162  2162  2162  2162  2162  2162  2162PRN / # OF OBS      \n",
            "   C19  1886  1885        1884  1883        1886  1885      PRN / # OF OBS      \n",
            "   C20  2511  2511        2511  2511        2511  2511      PRN / # OF OBS      \n",
            "   C21  1277  1277        1277  1277        1277  1277      PRN / # OF OBS      \n",
            "   C22  1330  1329        1330  1328        1330  1329      PRN / # OF OBS      \n",
            "   C23  1943  1943        1943  1943        1943  1943      PRN / # OF OBS      \n",
            "   C24  1948  1947        1948  1947        1948  1947      PRN / # OF OBS      \n",
            "   C25  2224  2224        2224  2223        2224  2224      PRN / # OF OBS      \n",
            "   C26  1890  1888        1889  1886        1890  1888      PRN / # OF OBS      \n",
            "   C27  2577  2569        2576  2567        2577  2569      PRN / # OF OBS      \n",
            "   C28  2619  2616        2619  2616        2619  2616      PRN / # OF OBS      \n",
            "   C29  1758  1757        1758  1757        1758  1757      PRN / # OF OBS      \n",
            "   C30  1917  1917        1917  1917        1917  1917      PRN / # OF OBS      \n",
            "   E01  2744  2719  2708  2736  2742  2719  2708  2736  2744PRN / # OF OBS      \n",
            "        2719  2708  2736                                    PRN / # OF OBS      \n",
            "   E02  1469  1469  1469  1469  1469  1469  1469  1469  1469PRN / # OF OBS      \n",
            "        1469  1469  1469                                    PRN / # OF OBS      \n",
            "   E03  1588  1583  1585  1588  1587  1583  1585  1588  1588PRN / # OF OBS      \n",
            "        1583  1585  1588                                    PRN / # OF OBS      \n",
            "   E04  2469  2469  2469  2469  2468  2469  2469  2469  2469PRN / # OF OBS      \n",
            "        2469  2469  2469                                    PRN / # OF OBS      \n",
            "   E05  2151  2145  2145  2151  2151  2145  2145  2151  2151PRN / # OF OBS      \n",
            "        2145  2145  2151                                    PRN / # OF OBS      \n",
            "   E07  1429  1429  1429  1429  1429  1429  1429  1429  1429PRN / # OF OBS      \n",
            "        1429  1429  1429                                    PRN / # OF OBS      \n",
            "   E08   787   787   787   787   786   787   787   787   787PRN / # OF OBS      \n",
            "         787   787   787                                    PRN / # OF OBS      \n",
            "   E09  2575  2573  2568  2575  2575  2573  2568  2575  2575PRN / # OF OBS      \n",
            "        2573  2568  2575                                    PRN / # OF OBS      \n",
            "   E11  2960  2921  2903  2950  2960  2921  2903  2950  2960PRN / # OF OBS      \n",
            "        2921  2903  2950                                    PRN / # OF OBS      \n",
            "   E12  2990  2984  2980  2990  2987  2984  2980  2990  2990PRN / # OF OBS      \n",
            "        2984  2980  2990                                    PRN / # OF OBS      \n",
            "   E13  1184  1167  1171  1184  1181  1167  1171  1184  1184PRN / # OF OBS      \n",
            "        1167  1171  1184                                    PRN / # OF OBS      \n",
            "   E14  2093  2093  2093  2093  2093  2093  2093  2093  2093PRN / # OF OBS      \n",
            "        2093  2093  2093                                    PRN / # OF OBS      \n",
            "   E15   802   802   801   802   802   802   801   802   802PRN / # OF OBS      \n",
            "         802   801   802                                    PRN / # OF OBS      \n",
            "   E18  1857  1856  1857  1857  1856  1856  1857  1857  1857PRN / # OF OBS      \n",
            "        1856  1857  1857                                    PRN / # OF OBS      \n",
            "   E19  2397  2388  2388  2397  2397  2388  2388  2397  2397PRN / # OF OBS      \n",
            "        2388  2388  2397                                    PRN / # OF OBS      \n",
            "   E21  2154  2151  2151  2153  2153  2151  2151  2153  2154PRN / # OF OBS      \n",
            "        2151  2151  2153                                    PRN / # OF OBS      \n",
            "   E24  2606  2605  2601  2606  2606  2605  2601  2606  2606PRN / # OF OBS      \n",
            "        2605  2601  2606                                    PRN / # OF OBS      \n",
            "   E25  2431  2431  2431  2431  2431  2431  2431  2431  2431PRN / # OF OBS      \n",
            "        2431  2431  2431                                    PRN / # OF OBS      \n",
            "   E26  1683  1683  1683  1683  1683  1683  1683  1683  1683PRN / # OF OBS      \n",
            "        1683  1683  1683                                    PRN / # OF OBS      \n",
            "   E27   969   969   969   969   968   969   969   969   969PRN / # OF OBS      \n",
            "         969   969   969                                    PRN / # OF OBS      \n",
            "   E30   768   767   767   768   768   767   767   768   768PRN / # OF OBS      \n",
            "         767   767   768                                    PRN / # OF OBS      \n",
            "   E31  2796  2792  2791  2795  2796  2792  2791  2795  2796PRN / # OF OBS      \n",
            "        2792  2791  2795                                    PRN / # OF OBS      \n",
            "   E33  2917  2916  2913  2917  2916  2916  2913  2917  2917PRN / # OF OBS      \n"
          ]
        }
      ]
    },
    {
      "cell_type": "markdown",
      "metadata": {
        "id": "fV1Qfva9GVky"
      },
      "source": [
        "# Downloading TEQC"
      ]
    },
    {
      "cell_type": "code",
      "metadata": {
        "colab": {
          "base_uri": "https://localhost:8080/"
        },
        "id": "LKGEx7QkFM5J",
        "outputId": "ead7865a-3415-4159-f6c8-01956022572a"
      },
      "source": [
        "!wget https://www.unavco.org/software/data-processing/teqc/development/teqc_CentOSLx86_64s.zip -O teqc.zip\n",
        "!unzip teqc.zip "
      ],
      "execution_count": null,
      "outputs": [
        {
          "output_type": "stream",
          "name": "stdout",
          "text": [
            "--2021-11-01 19:43:33--  https://www.unavco.org/software/data-processing/teqc/development/teqc_CentOSLx86_64s.zip\n",
            "Resolving www.unavco.org (www.unavco.org)... 69.44.86.106\n",
            "Connecting to www.unavco.org (www.unavco.org)|69.44.86.106|:443... connected.\n",
            "HTTP request sent, awaiting response... 200 OK\n",
            "Length: 1087404 (1.0M) [application/zip]\n",
            "Saving to: ‘teqc.zip’\n",
            "\n",
            "teqc.zip            100%[===================>]   1.04M  --.-KB/s    in 0.09s   \n",
            "\n",
            "2021-11-01 19:43:33 (11.5 MB/s) - ‘teqc.zip’ saved [1087404/1087404]\n",
            "\n",
            "Archive:  teqc.zip\n",
            "replace teqc? [y]es, [n]o, [A]ll, [N]one, [r]ename: y\n",
            "  inflating: teqc                    \n"
          ]
        }
      ]
    },
    {
      "cell_type": "markdown",
      "metadata": {
        "id": "9nzABvf-k_FX"
      },
      "source": [
        "# Saving the GPS only rinex 2 file to newRinex.obs\n",
        "Use the \"Files\" tab to download the file."
      ]
    },
    {
      "cell_type": "code",
      "metadata": {
        "id": "rkgW7D2_FZpP",
        "colab": {
          "base_uri": "https://localhost:8080/"
        },
        "outputId": "1aa9a74d-1bab-43ff-8f81-9cfb6cfada71"
      },
      "source": [
        "newFile=rnx2file.split(\".\")[0]+\".21o\"\n",
        "!./teqc -E -C -R -S -O.obs L1L2L5C1P2C5S1S2S5 $rnx2file > $newFile\n",
        "print(\"RINEX 2 file saved to {}\".format(newFile))"
      ],
      "execution_count": null,
      "outputs": [
        {
          "output_type": "stream",
          "name": "stdout",
          "text": [
            "RINEX 2 file saved to RJNI00BRA_R_20212360000_01D_15S_MO.21o\n"
          ]
        }
      ]
    },
    {
      "cell_type": "code",
      "metadata": {
        "id": "V5bY9MMYBBRr"
      },
      "source": [
        "#Let's fix the lack of wavelength factor\n",
        "!sed '/^.*APPROX POSITION XYZ.*/a \\     1     1                                                WAVELENGTH FACT L1\\/2' -i $newFile "
      ],
      "execution_count": null,
      "outputs": []
    },
    {
      "cell_type": "code",
      "metadata": {
        "colab": {
          "base_uri": "https://localhost:8080/"
        },
        "id": "8CWalqeM5Gk4",
        "outputId": "fcac2403-a4bf-4848-f659-cf5ef3312c27"
      },
      "source": [
        "!head $newFile -n 100"
      ],
      "execution_count": null,
      "outputs": [
        {
          "output_type": "stream",
          "name": "stdout",
          "text": [
            "     2.11           OBSERVATION DATA    M (MIXED)           RINEX VERSION / TYPE\n",
            "Linux 2.6.32-573.12.1.x86_64|x86_64|gcc -static|Linux 64|=+ COMMENT\n",
            "     3.04           RINEX VERSION OF ORIGINAL FILE          COMMENT\n",
            "teqc  2019Feb25                         20211101 20:06:25UTCPGM / RUN BY / DATE\n",
            "NetR9 5.50          Receiver Operator   20210824 000000 UTC COMMENT\n",
            "gfzrnx-1.12-7747    FILE MERGE          20210825 052040 UTC COMMENT\n",
            "RJNI                                                        MARKER NAME\n",
            "48104M001                                                   MARKER NUMBER\n",
            "RBMC                IBGE/CGED                               OBSERVER / AGENCY\n",
            "5750R51585          TRIMBLE NETR9       5.50                REC # / TYPE / VERS\n",
            "1551129599          TRM115000.00    NONE                    ANT # / TYPE\n",
            "     1     1                                                WAVELENGTH FACT L1/2\n",
            "        0.0080        0.0000        0.0000                  ANTENNA: DELTA H/E/N\n",
            "  4289663.4011 -4018945.7498 -2467135.8382                  APPROX POSITION XYZ\n",
            "     1     1                                                WAVELENGTH FACT L1/2\n",
            "+C2: No C2 in RINEX 3 copied, blank \"D2\" values put instead.COMMENT\n",
            "     9    L1    L2    L5    C1    P2    C5    S1    S2    S5# / TYPES OF OBSERV\n",
            "NO DOPPLER DATA COPIED FROM THE RINEX 3 FILE.               COMMENT\n",
            "GPS DATA TYPES COPIED FROM THE ORIGINAL RINEX 3 FILE:       COMMENT\n",
            "@ C1C L1C C2W L2W C2X S1C S2W C5X L5X S5X                   COMMENT\n",
            "GLO DATA TYPES COPIED FROM THE ORIGINAL RINEX 3 FILE:       COMMENT\n",
            "@ C1C L1P C2P L2P     S1C S2P                               COMMENT\n",
            "NON-RINEX 2 RECORD  \"GLONASS SLOT / FRQ #\", CONTENTS BELOW: COMMENT\n",
            " 24 R01  1 R02 -4 R03  5 R04  6 R05  1 R06 -4 R07  5 R08  6 COMMENT\n",
            "NON-RINEX 2 RECORD  \"GLONASS SLOT / FRQ #\", CONTENTS BELOW: COMMENT\n",
            "    R09 -2 R10 -7 R11  0 R12 -1 R13 -2 R14 -7 R15  0 R16 -1 COMMENT\n",
            "NON-RINEX 2 RECORD  \"GLONASS SLOT / FRQ #\", CONTENTS BELOW: COMMENT\n",
            "    R17  4 R18 -3 R19  3 R20  2 R21  4 R22 -3 R23  3 R24  2 COMMENT\n",
            "NON-RINEX 2 RECORD  \"GLONASS COD/PHS/BIS \", CONTENTS BELOW: COMMENT\n",
            "                                                            COMMENT\n",
            "CODIGO: 96321 Estacao: Niteroi UFF                          COMMENT\n",
            "NON-RINEX 2 RECORD  \"SIGNAL STRENGTH UNIT\", CONTENTS BELOW: COMMENT\n",
            "DBHZ                                                        COMMENT\n",
            "NON-RINEX 2 RECORD  \"SYS / PHASE SHIFT   \", CONTENTS BELOW: COMMENT\n",
            "G L2X -0.25000                                              COMMENT\n",
            "NON-RINEX 2 RECORD  \"SYS / PHASE SHIFT   \", CONTENTS BELOW: COMMENT\n",
            "R L1P  0.25000                                              COMMENT\n",
            "NON-RINEX 2 RECORD  \"SYS / PHASE SHIFT   \", CONTENTS BELOW: COMMENT\n",
            "R L2C -0.25000                                              COMMENT\n",
            "NON-RINEX 2 RECORD  \"MARKER TYPE         \", CONTENTS BELOW: COMMENT\n",
            "GEODETIC                                                    COMMENT\n",
            "    15.0000                                                 INTERVAL\n",
            "%     Number L2C GPS satellites: 23, listed below by PRN:   COMMENT\n",
            "%     5 10 15 18 23 25 26 29 31 32 27  8  3  1  4 17  9  7  COMMENT\n",
            "%     6 30 14 24 12                                         COMMENT\n",
            "G% 1/4 CYCLE CORRECTION*NOT*APPLIED TO Q/X PHASES?          COMMENT\n",
            "All L2 phase in this file is \"heritage\" (but see below).    COMMENT\n",
            "No L2C phase replaced any blank L2 phase entries            COMMENT\n",
            "NO L2C data in the original file were copied to this file.  COMMENT\n",
            "teqc edited: all GLONASS satellites excluded                COMMENT\n",
            "teqc edited: all SBAS satellites excluded                   COMMENT\n",
            "teqc edited: all Galileo satellites excluded                COMMENT\n",
            "teqc edited: all Beidou satellites excluded                 COMMENT\n",
            "  2021     8    24     0     0    0.0000000     GPS         TIME OF FIRST OBS\n",
            "    18                                                      LEAP SECONDS\n",
            "                                                            END OF HEADER\n",
            " 21  8 24  0  0  0.0000000  0 11G05G10G13G15G16G18G23G25G26G29G31\n",
            " 125873531.396 6  98083715.767 5                  23952934.984 6  23952934.266 5\n",
            "                        40.500          34.600\n",
            " 119264910.296 7  92933726.370 5  89061488.324 8  22695355.445 7  22695356.637 5\n",
            "  22695355.090 8        47.000          31.500          48.000\n",
            " 131682761.227 6 102609842.413 3                  25058372.016 6  25058371.941 3\n",
            "                        38.600          19.300\n",
            " 122822943.216 7  95706093.464 6                  23372404.633 7  23372404.332 6\n",
            "                        43.300          38.900\n",
            " 132867333.623 6 103532827.972 2                  25283772.281 6  25283771.820 2\n",
            "                        37.800          15.600\n",
            " 110974309.497 7  86473554.177 5  82870503.780 8  21117693.023 7  21117693.039 5\n",
            "  21117696.438 8        47.000          35.400          52.400\n",
            " 107888953.230 7  84069275.779 6  80566416.118 9  20530570.609 7  20530570.688 6\n",
            "  20530573.762 9        47.200          38.600          54.800\n",
            " 116333212.597 7  90649263.470 5  86872218.258 8  22137455.789 7  22137457.848 5\n",
            "  22137458.031 8        44.500          30.600          49.900\n",
            " 117378198.721 7  91463558.840 5  87652564.741 8  22336330.836 7  22336333.891 5\n",
            "  22336332.137 8        43.600          31.200          49.900\n",
            " 112037176.014 7  87301598.798 7                  21319896.203 7  21319895.469 7\n",
            "                        47.900          47.200\n",
            " 129670149.426 6 101041680.766 3                  24675412.930 6  24675410.289 3\n",
            "                        40.800          18.300\n",
            " 21  8 24  0  0 15.0000000  0 11G05G10G13G15G16G18G23G25G26G29G31\n",
            " 125920885.678 6  98120615.213 5                  23961944.938 6  23961945.359 5\n",
            "                        40.900          34.600\n",
            " 119214900.906 7  92894758.024 5  89024143.650 8  22685839.117 7  22685840.473 5\n",
            "  22685838.383 8        46.500          31.900          48.000\n",
            " 131678997.353 6 102606909.514 2                  25057656.406 6  25057655.551 2\n",
            "                        38.300          16.900\n",
            " 122814944.956 7  95699861.061 6                  23370882.445 7  23370882.051 6\n",
            "                        44.300          38.600\n",
            " 132816171.125 5 103492961.107 2                  25274035.273 5  25274035.215 2\n",
            "                        33.200          16.300\n",
            " 110980610.286 8  86478463.881 5  82875208.915 8  21118892.594 8  21118892.027 5\n",
            "  21118895.332 8        48.200          35.400          52.000\n",
            " 107866242.395 7  84051579.037 6  80549456.738 9  20526249.195 7  20526248.820 6\n",
            "  20526252.082 9        46.700          38.900          55.000\n",
            " 116381150.653 7  90686617.789 5  86908016.137 8  22146577.789 7  22146580.457 5\n",
            "  22146580.348 8        44.100          31.200          49.700\n",
            " 117349289.838 7  91441032.436 5  87630976.941 8  22330829.781 7  22330832.598 5\n",
            "  22330830.992 8        44.100          31.200          49.500\n",
            " 112040099.088 8  87303876.511 7                  21320452.703 8  21320451.734 7\n",
            "                        48.000          47.200\n"
          ]
        }
      ]
    }
  ]
}