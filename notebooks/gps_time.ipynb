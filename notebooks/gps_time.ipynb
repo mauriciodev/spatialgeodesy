{
  "nbformat": 4,
  "nbformat_minor": 0,
  "metadata": {
    "colab": {
      "provenance": [],
      "include_colab_link": true
    },
    "kernelspec": {
      "name": "python3",
      "display_name": "Python 3"
    },
    "language_info": {
      "name": "python"
    }
  },
  "cells": [
    {
      "cell_type": "markdown",
      "metadata": {
        "id": "view-in-github",
        "colab_type": "text"
      },
      "source": [
        "<a href=\"https://colab.research.google.com/github/mauriciodev/spatialgeodesy/blob/main/notebooks/gps_time.ipynb\" target=\"_parent\"><img src=\"https://colab.research.google.com/assets/colab-badge.svg\" alt=\"Open In Colab\"/></a>"
      ]
    },
    {
      "cell_type": "code",
      "metadata": {
        "id": "TsywvYGEt9QF"
      },
      "source": [
        "#Imported libraries\n",
        "import os\n",
        "import numpy as np\n",
        "from numpy import *"
      ],
      "execution_count": null,
      "outputs": []
    },
    {
      "cell_type": "code",
      "metadata": {
        "id": "7MxZHoXQB5fJ",
        "colab": {
          "base_uri": "https://localhost:8080/"
        },
        "outputId": "67a1ee33-15da-449a-b46a-37435cfccfa1"
      },
      "source": [
        "#CHANGE THIS TO use other dates\n",
        "t=np.datetime64('2014-11-24T23:45:00') \n",
        "\n",
        "\n",
        "print(\"Time: \",t)\n",
        "today=t.astype('datetime64[D]')\n",
        "secsOfDay=(t-today)/ np.timedelta64(1, 's')\n",
        "print(\"Seconds of day:\" , secsOfDay)\n",
        "#dayOfWeek=(t.astype('datetime64[D]').view('int64') - 3) % 7\n",
        "gps_t0=np.datetime64('1980-01-06T00:00:00')\n",
        "gpsWeek=((t - gps_t0)/ np.timedelta64(1, 'D')/7).astype(int64)\n",
        "print(\"GPS week\", gpsWeek)\n",
        "dayOfWeek=((t - gps_t0)/ np.timedelta64(1, 'D') % 7).astype(int64)\n",
        "print(\"Day of GPS week:\", dayOfWeek)\n",
        "year=t.astype('datetime64[Y]')\n",
        "dayOfYear=((t-year)/np.timedelta64(1,'D')+1).astype(int64)\n",
        "print(\"Day of year:\",dayOfYear)\n",
        "secsOfWeek=secsOfDay+dayOfWeek*24*60*60\n",
        "print(\"Seconds of week:\",secsOfWeek)\n",
        "twoDigitYear=year.astype(int)-30\n",
        "print(\"Year with two digits:\",twoDigitYear)"
      ],
      "execution_count": null,
      "outputs": [
        {
          "output_type": "stream",
          "name": "stdout",
          "text": [
            "Time:  2014-11-24T23:45:00\n",
            "Seconds of day: 85500.0\n",
            "GPS week 1820\n",
            "Day of GPS week: 1\n",
            "Day of year: 328\n",
            "Seconds of week: 171900.0\n",
            "Year with two digits: 14\n"
          ]
        }
      ]
    }
  ]
}