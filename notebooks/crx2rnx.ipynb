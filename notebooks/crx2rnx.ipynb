{
  "nbformat": 4,
  "nbformat_minor": 0,
  "metadata": {
    "colab": {
      "provenance": [],
      "collapsed_sections": [
        "CsCUaxGuD5ke"
      ]
    },
    "kernelspec": {
      "name": "python3",
      "display_name": "Python 3"
    },
    "language_info": {
      "name": "python"
    }
  },
  "cells": [
    {
      "cell_type": "markdown",
      "metadata": {
        "id": "qR_phpiq6MHw"
      },
      "source": [
        "# Introduction\n",
        "\n",
        "Converts CRX to RNX"
      ]
    },
    {
      "cell_type": "code",
      "metadata": {
        "id": "CjLcms--FyVF"
      },
      "source": [
        "link=\"\"\"https://geoftp.ibge.gov.br/informacoes_sobre_posicionamento_geodesico/rbmc/dados/2021/236/rjni2361.zip\"\"\"\n",
        "rbmcfile=link.split(\"/\")[-1]\n",
        "year=21"
      ],
      "execution_count": null,
      "outputs": []
    },
    {
      "cell_type": "markdown",
      "metadata": {
        "id": "CsCUaxGuD5ke"
      },
      "source": [
        "# crx2rnx"
      ]
    },
    {
      "cell_type": "code",
      "metadata": {
        "colab": {
          "base_uri": "https://localhost:8080/"
        },
        "id": "oXFFx8OdD7je",
        "outputId": "e40d9842-251a-4523-a5ea-01453ea40900"
      },
      "source": [
        "!wget https://raw.githubusercontent.com/geospace-code/georinex/main/src/georinex/rnxcmp/source/crx2rnx.c\n",
        "!gcc crx2rnx.c -o crx2rnx"
      ],
      "execution_count": null,
      "outputs": [
        {
          "output_type": "stream",
          "name": "stdout",
          "text": [
            "--2021-11-01 19:42:46--  https://raw.githubusercontent.com/geospace-code/georinex/main/src/georinex/rnxcmp/source/crx2rnx.c\n",
            "Resolving raw.githubusercontent.com (raw.githubusercontent.com)... 185.199.108.133, 185.199.109.133, 185.199.111.133, ...\n",
            "Connecting to raw.githubusercontent.com (raw.githubusercontent.com)|185.199.108.133|:443... connected.\n",
            "HTTP request sent, awaiting response... 200 OK\n",
            "Length: 36738 (36K) [text/plain]\n",
            "Saving to: ‘crx2rnx.c’\n",
            "\n",
            "crx2rnx.c           100%[===================>]  35.88K  --.-KB/s    in 0.004s  \n",
            "\n",
            "2021-11-01 19:42:46 (8.06 MB/s) - ‘crx2rnx.c’ saved [36738/36738]\n",
            "\n"
          ]
        }
      ]
    },
    {
      "cell_type": "markdown",
      "metadata": {
        "id": "aoqktEhQ18yQ"
      },
      "source": [
        "# Running"
      ]
    },
    {
      "cell_type": "markdown",
      "metadata": {
        "id": "nv4942huF7Ee"
      },
      "source": [
        "## Downloading RINEX 3 file from RBMC"
      ]
    },
    {
      "cell_type": "code",
      "metadata": {
        "colab": {
          "base_uri": "https://localhost:8080/"
        },
        "id": "WG7_3WW12JjP",
        "outputId": "5e2ad8f9-8d58-4f6e-c9f1-c234f9a83eb2"
      },
      "source": [
        "!wget \"$link\""
      ],
      "execution_count": null,
      "outputs": [
        {
          "output_type": "stream",
          "name": "stdout",
          "text": [
            "--2021-11-01 19:42:47--  https://geoftp.ibge.gov.br/informacoes_sobre_posicionamento_geodesico/rbmc/dados/2021/236/rjni2361.zip\n",
            "Resolving geoftp.ibge.gov.br (geoftp.ibge.gov.br)... 191.233.136.86\n",
            "Connecting to geoftp.ibge.gov.br (geoftp.ibge.gov.br)|191.233.136.86|:443... connected.\n",
            "HTTP request sent, awaiting response... 200 OK\n",
            "Length: 3521002 (3.4M) [application/zip]\n",
            "Saving to: ‘rjni2361.zip’\n",
            "\n",
            "rjni2361.zip        100%[===================>]   3.36M  1.34MB/s    in 2.5s    \n",
            "\n",
            "2021-11-01 19:42:51 (1.34 MB/s) - ‘rjni2361.zip’ saved [3521002/3521002]\n",
            "\n"
          ]
        }
      ]
    },
    {
      "cell_type": "markdown",
      "metadata": {
        "id": "PNY-Sv-EGApL"
      },
      "source": [
        "## Unzipping and transforming from hatanaka to rnx"
      ]
    },
    {
      "cell_type": "code",
      "metadata": {
        "id": "7gNFvFLu2NcG",
        "colab": {
          "base_uri": "https://localhost:8080/"
        },
        "outputId": "bb69926e-3dd5-4f56-db1b-fb813ab47f1a"
      },
      "source": [
        "!unzip $rbmcfile\n"
      ],
      "execution_count": null,
      "outputs": [
        {
          "output_type": "stream",
          "name": "stdout",
          "text": [
            "Archive:  rjni2361.zip\n",
            "  inflating: rjni2361.21d            \n",
            "  inflating: rjni2361.21n            \n",
            "  inflating: rjni2361.21g            \n",
            "  inflating: rjni2361.21l            \n"
          ]
        }
      ]
    },
    {
      "cell_type": "code",
      "metadata": {
        "colab": {
          "base_uri": "https://localhost:8080/"
        },
        "id": "BdvtbgwcjIx8",
        "outputId": "15cf02b4-8dd8-4fb2-8a64-c87164ff2475"
      },
      "source": [
        "#Check the file sizes\n",
        "!ls -la "
      ],
      "execution_count": null,
      "outputs": [
        {
          "output_type": "stream",
          "name": "stdout",
          "text": [
            "total 15368\n",
            "drwxr-xr-x 1 root root    4096 Nov  1 19:42 .\n",
            "drwxr-xr-x 1 root root    4096 Nov  1 19:38 ..\n",
            "drwxr-xr-x 4 root root    4096 Oct 26 13:33 .config\n",
            "-rwxr-xr-x 1 root root   31408 Nov  1 19:42 crx2rnx\n",
            "-rw-r--r-- 1 root root   36738 Nov  1 19:42 crx2rnx.c\n",
            "-rw-r--r-- 1 root root 8055691 Aug 25 05:22 rjni2361.21d\n",
            "-rw-r--r-- 1 root root  369037 Aug 25 22:30 rjni2361.21g\n",
            "-rw-r--r-- 1 root root 3419763 Aug 25 22:30 rjni2361.21l\n",
            "-rw-r--r-- 1 root root  274957 Aug 25 22:30 rjni2361.21n\n",
            "-rw-r--r-- 1 root root 3521002 Aug 25 23:01 rjni2361.zip\n",
            "drwxr-xr-x 1 root root    4096 Oct 26 13:34 sample_data\n"
          ]
        }
      ]
    },
    {
      "cell_type": "code",
      "metadata": {
        "colab": {
          "base_uri": "https://localhost:8080/"
        },
        "id": "O970taFJwJC9",
        "outputId": "2e33e07f-18d2-439f-da19-17295700d4b1"
      },
      "source": [
        "crxfile=rbmcfile.replace(\".zip\",'.{}d'.format(year))\n",
        "!./crx2rnx $crxfile\n",
        "print(\"Output file should be {}. Please check the Files tab.\".format(\"rjni2361.21d\"[:-1]+\"o\"))"
      ],
      "execution_count": null,
      "outputs": [
        {
          "output_type": "stream",
          "name": "stdout",
          "text": [
            "Output file should be rjni2361.21o. Please check the Files tab.\n"
          ]
        }
      ]
    },
    {
      "cell_type": "markdown",
      "metadata": {
        "id": "fV1Qfva9GVky"
      },
      "source": [
        "# Downloading TEQC"
      ]
    },
    {
      "cell_type": "code",
      "metadata": {
        "colab": {
          "base_uri": "https://localhost:8080/"
        },
        "id": "LKGEx7QkFM5J",
        "outputId": "f8b356f1-6331-4a9e-a54b-14794e116ae6"
      },
      "source": [
        "!wget https://www.unavco.org/software/data-processing/teqc/development/teqc_CentOSLx86_64s.zip -O teqc.zip\n",
        "!unzip teqc.zip "
      ],
      "execution_count": null,
      "outputs": [
        {
          "output_type": "stream",
          "name": "stdout",
          "text": [
            "--2021-11-01 19:42:52--  https://www.unavco.org/software/data-processing/teqc/development/teqc_CentOSLx86_64s.zip\n",
            "Resolving www.unavco.org (www.unavco.org)... 69.44.86.106\n",
            "Connecting to www.unavco.org (www.unavco.org)|69.44.86.106|:443... connected.\n",
            "HTTP request sent, awaiting response... 200 OK\n",
            "Length: 1087404 (1.0M) [application/zip]\n",
            "Saving to: ‘teqc.zip’\n",
            "\n",
            "teqc.zip            100%[===================>]   1.04M  1.18MB/s    in 0.9s    \n",
            "\n",
            "2021-11-01 19:42:54 (1.18 MB/s) - ‘teqc.zip’ saved [1087404/1087404]\n",
            "\n",
            "Archive:  teqc.zip\n",
            "  inflating: teqc                    \n"
          ]
        }
      ]
    },
    {
      "cell_type": "markdown",
      "metadata": {
        "id": "9nzABvf-k_FX"
      },
      "source": [
        "# Saving the GPS only rinex 2 file to newRinex.obs"
      ]
    },
    {
      "cell_type": "code",
      "metadata": {
        "id": "rkgW7D2_FZpP",
        "colab": {
          "base_uri": "https://localhost:8080/"
        },
        "outputId": "1fcb407d-4168-44bc-d4c0-4ecf89342449"
      },
      "source": [
        "rnx2file=crxfile[:-1]+\"o\"\n",
        "newFile=rnx2file.replace(\".\",\"gps.\")\n",
        "!./teqc -E -C -R -S -O.obs L1L2L5C1P2C5S1S2S5 $rnx2file > $newFile\n",
        "print(\"RINEX 2 file saved to {}\".format(newFile))"
      ],
      "execution_count": null,
      "outputs": [
        {
          "output_type": "stream",
          "name": "stdout",
          "text": [
            "RINEX 2 file saved to rjni2361gps.21o\n"
          ]
        }
      ]
    },
    {
      "cell_type": "code",
      "metadata": {
        "id": "YXx57knyBbEd"
      },
      "source": [
        "#Let's fix the lack of wavelength factor\n",
        "!sed '/^.*APPROX POSITION XYZ.*/a \\     1     1                                                WAVELENGTH FACT L1\\/2' -i $newFile "
      ],
      "execution_count": null,
      "outputs": []
    },
    {
      "cell_type": "code",
      "metadata": {
        "colab": {
          "base_uri": "https://localhost:8080/"
        },
        "id": "8CWalqeM5Gk4",
        "outputId": "212a5f0d-f031-45f7-fc8c-20258ca6a2cc"
      },
      "source": [
        "!head $newFile -n 100"
      ],
      "execution_count": null,
      "outputs": [
        {
          "output_type": "stream",
          "name": "stdout",
          "text": [
            "     2.11           OBSERVATION DATA    M (MIXED)           RINEX VERSION / TYPE\n",
            "teqc  2019Feb25                         20211101 19:42:54UTCPGM / RUN BY / DATE\n",
            "RBMC                IBGE/CGED                               OBSERVER / AGENCY\n",
            "5750R51585          TRIMBLE NETR9       5.50                REC # / TYPE / VERS\n",
            "1551129599          TRM115000.00    NONE                    ANT # / TYPE\n",
            "        0.0080        0.0000        0.0000                  ANTENNA: DELTA H/E/N\n",
            "  4289663.4011 -4018945.7498 -2467135.8382                  APPROX POSITION XYZ\n",
            "     1     1                                                WAVELENGTH FACT L1/2\n",
            "     9    L1    L2    L5    C1    P2    C5    S1    S2    S5# / TYPES OF OBSERV\n",
            "    15.0000                                                 INTERVAL\n",
            "Linux 2.6.32-573.12.1.x86_64|x86_64|gcc -static|Linux 64|=+ COMMENT\n",
            "teqc  2019Feb25                         20210825 05:21:57UTCCOMMENT\n",
            "CODIGO: 96321    Estacao: Niteroi UFF                       COMMENT\n",
            "RJNI                                                        MARKER NAME\n",
            "48104M001                                                   MARKER NUMBER\n",
            "    18                                                      LEAP SECONDS\n",
            "teqc edited: all GLONASS satellites excluded                COMMENT\n",
            "teqc edited: all SBAS satellites excluded                   COMMENT\n",
            "teqc edited: all Galileo satellites excluded                COMMENT\n",
            "teqc edited: all Beidou satellites excluded                 COMMENT\n",
            "  2021     8    24     0     0    0.0000000     GPS         TIME OF FIRST OBS\n",
            "                                                            END OF HEADER\n",
            " 21  8 24  0  0  0.0000000  0 11G05G10G13G15G16G18G23G25G26G29G31\n",
            " 125873531.396 6  98083715.767 5                  23952934.984 6  23952934.266 5\n",
            "                        40.500          34.600\n",
            " 119264910.296 7  92933726.370 5  89061488.324 8  22695355.445 7  22695356.637 5\n",
            "  22695355.090 8        47.000          31.500          48.000\n",
            " 131682761.227 6 102609842.413 3                  25058372.016 6  25058371.941 3\n",
            "                        38.600          19.300\n",
            " 122822943.216 7  95706093.464 6                  23372404.633 7  23372404.332 6\n",
            "                        43.300          38.900\n",
            " 132867333.623 6 103532827.972 2                  25283772.281 6  25283771.820 2\n",
            "                        37.800          15.600\n",
            " 110974309.497 7  86473554.177 5  82870503.780 8  21117693.023 7  21117693.039 5\n",
            "  21117696.438 8        47.000          35.400          52.400\n",
            " 107888953.230 7  84069275.779 6  80566416.118 9  20530570.609 7  20530570.688 6\n",
            "  20530573.762 9        47.200          38.600          54.800\n",
            " 116333212.597 7  90649263.470 5  86872218.258 8  22137455.789 7  22137457.848 5\n",
            "  22137458.031 8        44.500          30.600          49.900\n",
            " 117378198.721 7  91463558.840 5  87652564.741 8  22336330.836 7  22336333.891 5\n",
            "  22336332.137 8        43.600          31.200          49.900\n",
            " 112037176.014 7  87301598.798 7                  21319896.203 7  21319895.469 7\n",
            "                        47.900          47.200\n",
            " 129670149.426 6 101041680.766 3                  24675412.930 6  24675410.289 3\n",
            "                        40.800          18.300\n",
            " 21  8 24  0  0 15.0000000  0 11G05G10G13G15G16G18G23G25G26G29G31\n",
            " 125920885.678 6  98120615.213 5                  23961944.938 6  23961945.359 5\n",
            "                        40.900          34.600\n",
            " 119214900.906 7  92894758.024 5  89024143.650 8  22685839.117 7  22685840.473 5\n",
            "  22685838.383 8        46.500          31.900          48.000\n",
            " 131678997.353 6 102606909.514 2                  25057656.406 6  25057655.551 2\n",
            "                        38.300          16.900\n",
            " 122814944.956 7  95699861.061 6                  23370882.445 7  23370882.051 6\n",
            "                        44.300          38.600\n",
            " 132816171.125 5 103492961.107 2                  25274035.273 5  25274035.215 2\n",
            "                        33.200          16.300\n",
            " 110980610.286 8  86478463.881 5  82875208.915 8  21118892.594 8  21118892.027 5\n",
            "  21118895.332 8        48.200          35.400          52.000\n",
            " 107866242.395 7  84051579.037 6  80549456.738 9  20526249.195 7  20526248.820 6\n",
            "  20526252.082 9        46.700          38.900          55.000\n",
            " 116381150.653 7  90686617.789 5  86908016.137 8  22146577.789 7  22146580.457 5\n",
            "  22146580.348 8        44.100          31.200          49.700\n",
            " 117349289.838 7  91441032.436 5  87630976.941 8  22330829.781 7  22330832.598 5\n",
            "  22330830.992 8        44.100          31.200          49.500\n",
            " 112040099.088 8  87303876.511 7                  21320452.703 8  21320451.734 7\n",
            "                        48.000          47.200\n",
            " 129692986.238 6 101059475.697 3                  24679757.523 6  24679755.211 3\n",
            "                        40.700          18.300\n",
            " 21  8 24  0  0 30.0000000  0 11G05G10G13G15G16G18G23G25G26G29G31\n",
            " 125968276.948 6  98157543.482 5                  23970964.094 6  23970963.551 5\n",
            "                        40.300          34.600\n",
            " 119164961.540 7  92855844.228 5  88986851.278 8  22676335.570 7  22676337.273 5\n",
            "  22676335.215 8        46.600          32.100          48.300\n",
            " 131675324.863 6 102604047.850 2                  25056957.383 6  25056956.551 2\n",
            "                        38.400          16.300\n",
            " 122807034.478 7  95693697.062 6                  23369377.219 7  23369376.797 6\n",
            "                        43.600          38.400\n",
            " 132765049.314 6 103453125.989 2                  25264309.883 6  25264308.012 2\n",
            "                        37.500          16.900\n",
            " 110986942.970 7  86483398.441 5  82879937.884 8  21120097.617 7  21120097.203 5\n",
            "  21120100.348 8        46.800          35.200          51.900\n",
            " 107843662.020 7  84033983.936 6  80532594.768 9  20521952.906 7  20521951.953 6\n",
            "  20521955.156 9        46.600          39.000          55.200\n",
            " 116429152.594 7  90724021.886 5  86943861.732 8  22155712.297 7  22155714.715 5\n",
            "  22155714.766 8        44.700          31.300          49.800\n",
            " 117320500.575 7  91418599.254 5  87609478.475 8  22325351.461 7  22325354.137 5\n",
            "  22325352.754 8        43.600          31.900          49.500\n",
            " 112043089.471 7  87306206.684 7                  21321021.555 7  21321020.965 7\n",
            "                        47.600          47.000\n",
            " 129715844.556 6 101077287.339 2                  24684106.242 6  24684104.461 2\n",
            "                        38.700          17.400\n",
            " 21  8 24  0  0 45.0000000  0 11G05G10G13G15G16G18G23G25G26G29G31\n",
            " 126015704.759 6  98194500.223 5                  23979990.211 6  23979989.008 5\n",
            "                        40.300          34.700\n",
            " 119115092.519 7  92816985.270 5  88949611.435 8  22666845.844 7  22666847.648 5\n",
            "  22666845.758 8        46.200          32.000          48.100\n",
            " 131671744.110 6 102601257.684 2                  25056274.891 6  25056275.688 2\n",
            "                        37.700          16.300\n",
            " 122799212.030 7  95687601.652 6                  23367888.672 7  23367888.102 6\n",
            "                        43.300          38.600\n"
          ]
        }
      ]
    }
  ]
}