{
  "nbformat": 4,
  "nbformat_minor": 0,
  "metadata": {
    "colab": {
      "provenance": [],
      "toc_visible": true
    },
    "kernelspec": {
      "name": "python3",
      "display_name": "Python 3"
    },
    "language_info": {
      "name": "python"
    }
  },
  "cells": [
    {
      "cell_type": "markdown",
      "metadata": {
        "id": "hxWW26ktc7gL"
      },
      "source": [
        "# Problem description\n",
        "\n",
        "This notebook illustrates the use of the pyerfa library, which is based on the SOFA astronomy library in C, to transform coordinates from the a Terrestrial reference system to the Celestial reference system. \n",
        "\n",
        "Perform the coordinate transformation from Terrestrial to Celestial. The Celestial coordinates bellow are the desired answer.\n",
        "\n",
        "COORDINATES | X (Km) |Y (Km) | Z (Km) | length (Km)\n",
        "-|-|-|-|-\n",
        " TERRESTRIAL | -8187.60022| -14130.95891| 21138.03020| 26712.11557\n",
        " CELESTIAL | -2768.51569|  16094.22352| 21138.78919| 26712.11557\n",
        "\n",
        "Use the following values from IERS bulletin B for day 122 of 2005:\n",
        "\n",
        "XP (“) | Xerror (“) | YP (“) | Y error (“) |  UT1-UTC (DUT1) (“) | UT1-UTC (error) (“) \n",
        "-|-|-|-|-|-\n",
        "-0,05723 | -0,00002 | 0,29734 | -0,00038 | -0,59713 | 0,94200\n",
        "\n"
      ]
    },
    {
      "cell_type": "markdown",
      "metadata": {
        "id": "j2MgiCFoULJh"
      },
      "source": [
        "# Importing libraries\n",
        "\n"
      ]
    },
    {
      "cell_type": "code",
      "metadata": {
        "colab": {
          "base_uri": "https://localhost:8080/"
        },
        "id": "h4b3guR9bTVF",
        "outputId": "535e3570-c1c1-460c-aba3-20b931c5355d"
      },
      "source": [
        "!pip install pyerfa"
      ],
      "execution_count": null,
      "outputs": [
        {
          "output_type": "stream",
          "name": "stdout",
          "text": [
            "Requirement already satisfied: pyerfa in /usr/local/lib/python3.7/dist-packages (2.0.0)\n",
            "Requirement already satisfied: numpy>=1.17 in /usr/local/lib/python3.7/dist-packages (from pyerfa) (1.19.5)\n"
          ]
        }
      ]
    },
    {
      "cell_type": "code",
      "metadata": {
        "id": "DVG1XEABKABn"
      },
      "source": [
        "import erfa\n",
        "import numpy as np"
      ],
      "execution_count": null,
      "outputs": []
    },
    {
      "cell_type": "markdown",
      "metadata": {
        "id": "8Rc5l7puUJNQ"
      },
      "source": [
        "# Input data"
      ]
    },
    {
      "cell_type": "code",
      "metadata": {
        "colab": {
          "base_uri": "https://localhost:8080/"
        },
        "id": "0JLwUfuBbgbK",
        "outputId": "4c06413a-b9cc-4675-e199-f60dabb29330"
      },
      "source": [
        "#HOR,MINU,SEGUNDO, ANO,MES,DIA,YEAR,MONTH;\n",
        "\n",
        "Xp=-0.05723\n",
        "Yp=0.29734\n",
        "DUT1=-0.59713\n",
        "\n",
        "ANO = 2005\n",
        "MES = 5\n",
        "DIA = 2\n",
        "HOR = 0.0\n",
        "MINU =0\n",
        "SEGUNDO = 0.0\n",
        "\n",
        "x=-8187.60022\n",
        "y=-14130.95891\n",
        "z=21138.03020\n",
        "\n",
        "print(\"Terrestres:\",x,y,z)\n",
        "#print(\"Celestes:   \",Xc,Yc,Zc)"
      ],
      "execution_count": null,
      "outputs": [
        {
          "output_type": "stream",
          "name": "stdout",
          "text": [
            "Terrestres: -8187.60022 -14130.95891 21138.0302\n"
          ]
        }
      ]
    },
    {
      "cell_type": "markdown",
      "metadata": {
        "id": "45NYTxhfUDeh"
      },
      "source": [
        "# Date time converstion from UTC to TT"
      ]
    },
    {
      "cell_type": "code",
      "metadata": {
        "colab": {
          "base_uri": "https://localhost:8080/"
        },
        "id": "zAcVhl7xeClp",
        "outputId": "11072123-256c-4267-ecef-7a2b3d2ef816"
      },
      "source": [
        "#DIA E HORA GPS PARA O SATÉLITE PRN 01\n",
        "\n",
        "#Boletin do IERS - posicao do polo\n",
        "XP = Xp*np.pi/648000.0;#em radianos\n",
        "YP = Yp*np.pi/648000.0;\n",
        "DUT1 = DUT1*np.pi/648000.0;\n",
        "tempo = HOR*3600.0+MINU*60.0+SEGUNDO; # corresponde a 0h 0min 0seg\n",
        "#Calendario Gregoriano para Data Juliana\n",
        "aux=erfa.cal2jd(ANO, MES, DIA)\n",
        "djm0,djm=aux\n",
        "print(\"Dias julianos:\",aux)\n",
        "print(\"Dias julianos:\",djm0+djm)\n",
        " #&djm0, &djm\n",
        "RR=np.array([0,0,0])\n",
        "RT=np.array([x,y,z])\n",
        "\n",
        "#HORA UTC (DIFERE DA HORA GPS POR 13 SEGUNDOS)\n",
        "UTC = tempo-13.0;\n",
        "UT1 = UTC + DUT1;\n",
        "TAI = UTC + 32.0; #!TEMPO ATOMICO INTERNACIONAL\n",
        "TT = TAI + 32.184; #!TEMPO TERRESTRE\n",
        "\n",
        "DATA1 = djm0;\n",
        "DATA2 = djm + TT/(86400.0);\n",
        "\n",
        "DATE2UT1 = djm + UT1/(86400.0);"
      ],
      "execution_count": null,
      "outputs": [
        {
          "output_type": "stream",
          "name": "stdout",
          "text": [
            "Dias julianos: (2400000.5, 53492.0)\n",
            "Dias julianos: 2453492.5\n"
          ]
        }
      ]
    },
    {
      "cell_type": "markdown",
      "metadata": {
        "id": "8H8WFp5Gb6nZ"
      },
      "source": [
        "# Celestial to terrestrial rotation matrix with IAU 2000a method\n"
      ]
    },
    {
      "cell_type": "code",
      "metadata": {
        "colab": {
          "base_uri": "https://localhost:8080/"
        },
        "id": "AAAf-ux0Nurx",
        "outputId": "c21afb6b-8d4a-4e98-e190-b4f01b68f13d"
      },
      "source": [
        "rc2t=erfa.c2t00a(DATA1, DATA2, DATA1, DATE2UT1, XP, YP)\n",
        "print(\"Rotation Matrix c->t:\")\n",
        "print(rc2t)\n"
      ],
      "execution_count": null,
      "outputs": [
        {
          "output_type": "stream",
          "name": "stdout",
          "text": [
            "Rotation Matrix c->t:\n",
            "[[-7.67319128e-01 -6.41265301e-01  4.13070940e-04]\n",
            " [ 6.41265235e-01 -7.67319238e-01 -2.93239441e-04]\n",
            " [ 5.05001557e-04  3.98798009e-05  9.99999872e-01]]\n"
          ]
        }
      ]
    },
    {
      "cell_type": "markdown",
      "metadata": {
        "id": "jlw_jTyAS3Vr"
      },
      "source": [
        "# Using erfa's function to rotate the coordinates"
      ]
    },
    {
      "cell_type": "code",
      "metadata": {
        "colab": {
          "base_uri": "https://localhost:8080/"
        },
        "id": "wQyVVc_ebSIE",
        "outputId": "5b4b2923-ed1e-490a-eaed-1a684f45c120"
      },
      "source": [
        "#multiplying the terrestrial coordinates RT with the transpose of the rotation matrix. Inverse transformation.\n",
        "R_celestial=erfa.trxp(rc2t, RT) \n",
        "print(\"Celestial coordinates (km):         \",R_celestial)\n",
        "print(\"Expected celestial coordinates: (km)\",[-2768.51569,\t16094.22352,\t21138.78919])\n",
        "#this would be used to perform the forward transformation.\n",
        "#erfa.rxp(rc2t, RT) "
      ],
      "execution_count": null,
      "outputs": [
        {
          "output_type": "stream",
          "name": "stdout",
          "text": [
            "Celestial coordinates (km):          [-2768.51568811 16094.22351633 21138.78918259]\n",
            "Expected celestial coordinates: (km) [-2768.51569, 16094.22352, 21138.78919]\n"
          ]
        }
      ]
    }
  ]
}