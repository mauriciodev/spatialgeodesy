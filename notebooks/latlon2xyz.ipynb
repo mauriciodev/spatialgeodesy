{
  "nbformat": 4,
  "nbformat_minor": 0,
  "metadata": {
    "colab": {
      "provenance": [],
      "include_colab_link": true
    },
    "kernelspec": {
      "name": "python3",
      "display_name": "Python 3"
    },
    "language_info": {
      "name": "python"
    }
  },
  "cells": [
    {
      "cell_type": "markdown",
      "metadata": {
        "id": "view-in-github",
        "colab_type": "text"
      },
      "source": [
        "<a href=\"https://colab.research.google.com/github/mauriciodev/spatialgeodesy/blob/main/notebooks/latlon2xyz.ipynb\" target=\"_parent\"><img src=\"https://colab.research.google.com/assets/colab-badge.svg\" alt=\"Open In Colab\"/></a>"
      ]
    },
    {
      "cell_type": "markdown",
      "metadata": {
        "id": "ZJj160vn5heZ"
      },
      "source": [
        "1) Dadas as coordenadas: \\\\\n",
        "lat = - 08° 03' 3,4697 \\\\\n",
        "lon = - 34° 57' 5,4591 \\\\\n",
        "h = 20,180 m \\\\\n",
        "Converter para cartesianas usando os parâmetros do elipsoide GRS80. \\\\\n",
        "2) Implementar o algoritmo iterativo de conversão de coordenadas cartesianas para curvilíneas em uma linguagem de programação qualquer (C++, Matlab, etc.) e aplicar para as coordenadas cartesianas dadas a seguir: \\\\\n",
        "X = 5.176.588,653 m \\\\\n",
        "Y = -3.618.162,163 m \\\\\n",
        "Z = -887.363,920 m \\\\\n",
        "3) Aplicar o método direto para converter as coordenadas do item anterior e comparar alatitude obtida no método direto com o método iterativo."
      ]
    },
    {
      "cell_type": "code",
      "metadata": {
        "id": "LHdAAwNz4U1I"
      },
      "source": [
        "import numpy as np\n",
        "def dms2dd(d,m,s):\n",
        "  if d<0: sign=-1\n",
        "  else: sign=1\n",
        "  return sign*(abs(d)+m/60.+s/3600.)\n",
        "def dd2dms(dd):\n",
        "  if dd<0: sign=-1\n",
        "  else: sign=1\n",
        "  dd=abs(dd)\n",
        "  d=np.floor(dd)\n",
        "  dm=(dd-d)*60\n",
        "  m=np.floor(dm)\n",
        "  s=(dm-m)*60\n",
        "  return sign*d,m,s"
      ],
      "execution_count": null,
      "outputs": []
    },
    {
      "cell_type": "code",
      "metadata": {
        "id": "l64R11FO4wjj"
      },
      "source": [
        "inputXYZ=[5176588.653, -3618162.163, -887363.920 ]\n",
        "inputlat=dms2dd(-8, 3, 3.4697)\n",
        "inputlon=dms2dd(-34, 57, 5.4591)\n",
        "inputh=20.180\n",
        "\n",
        "#GRS80\n",
        "a=6378137\n",
        "denf=298.2572221"
      ],
      "execution_count": null,
      "outputs": []
    },
    {
      "cell_type": "code",
      "metadata": {
        "id": "LnCzwYSz5897"
      },
      "source": [
        "  class ellipsoids:\n",
        "    def __init__(self,a,denf):\n",
        "      self.a=a\n",
        "      self.denf=denf\n",
        "    def b(self):\n",
        "      return self.a*(1-1/self.denf)\n",
        "    def e(self):\n",
        "      e=np.sqrt(1- self.b()**2/(self.a**2))\n",
        "      return e\n",
        "    def e2(self):\n",
        "      e2=np.sqrt(self.a**2/self.b()**2- 1)\n",
        "      return e2\n",
        "    def N(self,lat):\n",
        "      aux=self.e()*np.sin(lat)\n",
        "      N=self.a/np.sqrt(1-aux*aux)\n",
        "      return N\n",
        "    def M(self,lat):\n",
        "      e=self.e\n",
        "      M=a*(1-e**2)/(1-e**2 *np.sin(lat)*np.sin(lat))**1.5\n",
        "      return M\n",
        "    def xyz2latlon(self,xyz):\n",
        "      xyz=np.array(inputXYZ)\n",
        "      lon=np.arctan(xyz[1]/xyz[0]);\n",
        "      p=np.sqrt(xyz[0]*xyz[0]+xyz[1]*xyz[1]);\n",
        "      e=self.e();\n",
        "      e2=self.e2();\n",
        "      b=self.b();\n",
        "      u=np.arctan(xyz[2]*a/(p*b));\n",
        "      lat=np.arctan((xyz[2]+e2*e2*b*np.sin(u)**3)/(p-e*e*a*np.cos(u)**3));\n",
        "      N0=a/np.sqrt(1-e*e*np.sin(lat)*np.sin(lat));\n",
        "      h=p/np.cos(lat)-N0;\n",
        "      return np.array([lon*180/np.pi,lat*180/np.pi, h])\n",
        "    def xyz2latlonIter(self, xyz):\n",
        "      lon=np.arctan(xyz[1]/xyz[0]);\n",
        "      p=np.sqrt(xyz[0]*xyz[0]+xyz[1]*xyz[1]);\n",
        "      e=self.e();\n",
        "      error=1;\n",
        "      h=0; N0=1; lat0=1000;\n",
        "      while (error>1e-10):\n",
        "        lat1=np.arctan(xyz[2]/p/(1-e*e*N0/(N0+h)));\n",
        "        N0=a/np.sqrt(1-e*e*np.sin(lat1)*np.sin(lat1));\n",
        "        h=p/np.cos(lat1)-N0;\n",
        "        error=abs(lat1-lat0);\n",
        "        lat0=lat1;\n",
        "      return np.array([lon*180/np.pi,lat*180/np.pi, h])\n",
        "    def latlon2xyz(self,lon,lat,h):\n",
        "      e=self.e();\n",
        "      N=self.N(lat);\n",
        "      x=(N+h)*np.cos(lat)*np.cos(lon);\n",
        "      y=(N+h)*np.cos(lat)*np.sin(lon);\n",
        "      z=(N*(1-e*e)+h)*np.sin(lat);\n",
        "      return np.array([x,y,z])\n",
        "\n",
        "  grs80=ellipsoids(a,denf)\n"
      ],
      "execution_count": null,
      "outputs": []
    },
    {
      "cell_type": "code",
      "metadata": {
        "colab": {
          "base_uri": "https://localhost:8080/"
        },
        "id": "Ir5zwLYyDahZ",
        "outputId": "c6a326a2-0d5e-4372-9ed3-7284db5d1479"
      },
      "source": [
        "lat=inputlat/180*np.pi\n",
        "lon=inputlon/180*np.pi\n",
        "xyz=grs80.latlon2xyz(lon,lat,inputh)\n",
        "print(\"Transformed coordinates\",xyz)\n",
        "#return res;\n",
        "print(\"Expected: X = 5.176.588,653 m ,Y = -3.618.162,163 m, Z = -887.363,920 m\")"
      ],
      "execution_count": null,
      "outputs": [
        {
          "output_type": "stream",
          "name": "stdout",
          "text": [
            "Transformed coordinates [ 5176588.65344011 -3618162.16304929  -887363.91950406]\n",
            "Expected: X = 5.176.588,653 m ,Y = -3.618.162,163 m, Z = -887.363,920 m\n"
          ]
        }
      ]
    },
    {
      "cell_type": "code",
      "metadata": {
        "colab": {
          "base_uri": "https://localhost:8080/"
        },
        "id": "Y9BfNHk0b0B2",
        "outputId": "03dfb739-e27b-4ac9-b692-a408e489bc26"
      },
      "source": [
        "xyz"
      ],
      "execution_count": null,
      "outputs": [
        {
          "output_type": "execute_result",
          "data": {
            "text/plain": [
              "array([ 5176588.65344011, -3618162.16304929,  -887363.91950406])"
            ]
          },
          "metadata": {},
          "execution_count": 6
        }
      ]
    },
    {
      "cell_type": "code",
      "metadata": {
        "colab": {
          "base_uri": "https://localhost:8080/"
        },
        "id": "OZIqmEEn3rlm",
        "outputId": "a00243d5-ad02-422f-9829-bf6cd767fd57"
      },
      "source": [
        "res=grs80.xyz2latlon(inputXYZ)\n",
        "print(\"XYZ to LonLatH direct: \")\n",
        "print(\"lon:\", dd2dms(res[0]), res[0])\n",
        "print(\"lat:\", dd2dms(res[1]), res[1])\n",
        "print(\"h:\",res[2])"
      ],
      "execution_count": null,
      "outputs": [
        {
          "output_type": "stream",
          "name": "stdout",
          "text": [
            "XYZ to LonLatH direct: \n",
            "lon: (-34.0, 57.0, 5.459106914982499) -34.951516418587495\n",
            "lat: (-8.0, 3.0, 3.4697177572337523) -8.05096381048812\n",
            "h: 20.17968432698399\n"
          ]
        }
      ]
    },
    {
      "cell_type": "code",
      "metadata": {
        "colab": {
          "base_uri": "https://localhost:8080/"
        },
        "id": "ruKgMG3V4SjQ",
        "outputId": "1b00f993-3a1b-44d6-820b-457c03fa09dc"
      },
      "source": [
        "grs80=ellipsoids(a,denf)\n",
        "res=grs80.xyz2latlonIter(inputXYZ)\n",
        "print(\"XYZ to LonLatH Iterative: \")\n",
        "print(\"lon:\", dd2dms(res[0]), res[0])\n",
        "print(\"lat:\", dd2dms(res[1]), res[1])\n",
        "print(\"h:\",res[2])\n"
      ],
      "execution_count": null,
      "outputs": [
        {
          "output_type": "stream",
          "name": "stdout",
          "text": [
            "XYZ to LonLatH Iterative: \n",
            "lon: (-34.0, 57.0, 5.459106914982499) -34.951516418587495\n",
            "lat: (-8.0, 3.0, 3.469699999994873) -8.050963805555554\n",
            "h: 20.17968432698399\n"
          ]
        }
      ]
    },
    {
      "cell_type": "markdown",
      "metadata": {
        "id": "umplVBsAbmE8"
      },
      "source": [
        "# BONUS: Using GDAL"
      ]
    },
    {
      "cell_type": "code",
      "metadata": {
        "colab": {
          "base_uri": "https://localhost:8080/"
        },
        "id": "3XvLHfkvbo_I",
        "outputId": "1fa9e680-6840-4b92-f915-10919490f36e"
      },
      "source": [
        "from gdal import osr\n",
        "wgsSRS=osr.SpatialReference()\n",
        "wgsSRS.ImportFromEPSG(4326)\n",
        "xyzSRS=osr.SpatialReference()\n",
        "xyzSRS.ImportFromEPSG(4978)\n"
      ],
      "execution_count": null,
      "outputs": [
        {
          "output_type": "execute_result",
          "data": {
            "text/plain": [
              "0"
            ]
          },
          "metadata": {},
          "execution_count": 33
        }
      ]
    },
    {
      "cell_type": "code",
      "metadata": {
        "id": "ArmEp-4Sc_Ul"
      },
      "source": [
        "llh2xyz=osr.CoordinateTransformation(wgsSRS,xyzSRS)"
      ],
      "execution_count": null,
      "outputs": []
    },
    {
      "cell_type": "code",
      "metadata": {
        "colab": {
          "base_uri": "https://localhost:8080/"
        },
        "id": "ijew2_8cdDsN",
        "outputId": "5a24dc2c-9d22-49b1-ad07-892fb16d3bad"
      },
      "source": [
        "print(llh2xyz.TransformPoint(inputlon,inputlat,inputh))\n",
        "print(xyz)"
      ],
      "execution_count": null,
      "outputs": [
        {
          "output_type": "stream",
          "name": "stdout",
          "text": [
            "(5176588.653438442, -3618162.1630481244, -887363.9195330641)\n",
            "[ 5176588.65344011 -3618162.16304929  -887363.91950406]\n"
          ]
        }
      ]
    },
    {
      "cell_type": "code",
      "metadata": {
        "id": "IjfotfACeAYC"
      },
      "source": [
        "print(llh2xyz.TransformPoint(inputlon,inputlat,inputh))\n",
        "print(xyz)"
      ],
      "execution_count": null,
      "outputs": []
    },
    {
      "cell_type": "code",
      "metadata": {
        "id": "Yg1qvF1DeDiB"
      },
      "source": [
        "llh2xyz.reve"
      ],
      "execution_count": null,
      "outputs": []
    }
  ]
}