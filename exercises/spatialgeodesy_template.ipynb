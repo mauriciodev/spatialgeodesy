{
  "nbformat": 4,
  "nbformat_minor": 0,
  "metadata": {
    "colab": {
      "provenance": [],
      "authorship_tag": "ABX9TyOhh/Td9qlZvaeVKTPPmunF",
      "include_colab_link": true
    },
    "kernelspec": {
      "name": "python3",
      "display_name": "Python 3"
    },
    "language_info": {
      "name": "python"
    }
  },
  "cells": [
    {
      "cell_type": "markdown",
      "metadata": {
        "id": "view-in-github",
        "colab_type": "text"
      },
      "source": [
        "<a href=\"https://colab.research.google.com/github/mauriciodev/spatialgeodesy/blob/main/exercises/spatialgeodesy_template.ipynb\" target=\"_parent\"><img src=\"https://colab.research.google.com/assets/colab-badge.svg\" alt=\"Open In Colab\"/></a>"
      ]
    },
    {
      "cell_type": "markdown",
      "source": [
        "# Installing useful packages"
      ],
      "metadata": {
        "id": "74NKQ7BnxNuR"
      }
    },
    {
      "cell_type": "code",
      "source": [
        "!pip install georinex"
      ],
      "metadata": {
        "colab": {
          "base_uri": "https://localhost:8080/"
        },
        "id": "xF-cZy5sxIxj",
        "outputId": "315b3011-2bbe-445b-c08c-0932bebcd888"
      },
      "execution_count": 2,
      "outputs": [
        {
          "output_type": "stream",
          "name": "stdout",
          "text": [
            "Looking in indexes: https://pypi.org/simple, https://us-python.pkg.dev/colab-wheels/public/simple/\n",
            "Collecting georinex\n",
            "  Downloading georinex-1.16.1.tar.gz (41 kB)\n",
            "\u001b[2K     \u001b[90m━━━━━━━━━━━━━━━━━━━━━━━━━━━━━━━━━━━━━━━━\u001b[0m \u001b[32m41.6/41.6 KB\u001b[0m \u001b[31m1.9 MB/s\u001b[0m eta \u001b[36m0:00:00\u001b[0m\n",
            "\u001b[?25h  Installing build dependencies ... \u001b[?25l\u001b[?25hdone\n",
            "  Getting requirements to build wheel ... \u001b[?25l\u001b[?25hdone\n",
            "  Preparing metadata (pyproject.toml) ... \u001b[?25l\u001b[?25hdone\n",
            "Requirement already satisfied: python-dateutil in /usr/local/lib/python3.8/dist-packages (from georinex) (2.8.2)\n",
            "Requirement already satisfied: numpy in /usr/local/lib/python3.8/dist-packages (from georinex) (1.21.6)\n",
            "Collecting hatanaka\n",
            "  Downloading hatanaka-2.8.0-py3-none-manylinux1_x86_64.whl (877 kB)\n",
            "\u001b[2K     \u001b[90m━━━━━━━━━━━━━━━━━━━━━━━━━━━━━━━━━━━━━━\u001b[0m \u001b[32m877.9/877.9 KB\u001b[0m \u001b[31m13.1 MB/s\u001b[0m eta \u001b[36m0:00:00\u001b[0m\n",
            "\u001b[?25hRequirement already satisfied: xarray>=0.11 in /usr/local/lib/python3.8/dist-packages (from georinex) (2022.12.0)\n",
            "Collecting unlzw3\n",
            "  Downloading unlzw3-0.2.2-py3-none-any.whl (6.1 kB)\n",
            "Requirement already satisfied: pandas>=1.3 in /usr/local/lib/python3.8/dist-packages (from xarray>=0.11->georinex) (1.3.5)\n",
            "Requirement already satisfied: packaging>=21.3 in /usr/local/lib/python3.8/dist-packages (from xarray>=0.11->georinex) (23.0)\n",
            "Collecting ncompress\n",
            "  Downloading ncompress-1.0.0-cp38-cp38-manylinux_2_17_x86_64.manylinux2014_x86_64.whl (893 kB)\n",
            "\u001b[2K     \u001b[90m━━━━━━━━━━━━━━━━━━━━━━━━━━━━━━━━━━━━━━\u001b[0m \u001b[32m893.2/893.2 KB\u001b[0m \u001b[31m50.6 MB/s\u001b[0m eta \u001b[36m0:00:00\u001b[0m\n",
            "\u001b[?25hRequirement already satisfied: importlib-resources in /usr/local/lib/python3.8/dist-packages (from hatanaka->georinex) (5.10.2)\n",
            "Requirement already satisfied: six>=1.5 in /usr/local/lib/python3.8/dist-packages (from python-dateutil->georinex) (1.15.0)\n",
            "Requirement already satisfied: pytz>=2017.3 in /usr/local/lib/python3.8/dist-packages (from pandas>=1.3->xarray>=0.11->georinex) (2022.7.1)\n",
            "Requirement already satisfied: zipp>=3.1.0 in /usr/local/lib/python3.8/dist-packages (from importlib-resources->hatanaka->georinex) (3.12.0)\n",
            "Building wheels for collected packages: georinex\n",
            "  Building wheel for georinex (pyproject.toml) ... \u001b[?25l\u001b[?25hdone\n",
            "  Created wheel for georinex: filename=georinex-1.16.1-py3-none-any.whl size=43917 sha256=d90e1204cea9c90334b1e262f3592c7752f0a10d4820e1d682878ed6fc2f02bc\n",
            "  Stored in directory: /root/.cache/pip/wheels/9d/c1/98/bb2d8ce041d84ca7517d776d2007a56b0671151ce076c54ee5\n",
            "Successfully built georinex\n",
            "Installing collected packages: ncompress, unlzw3, hatanaka, georinex\n",
            "Successfully installed georinex-1.16.1 hatanaka-2.8.0 ncompress-1.0.0 unlzw3-0.2.2\n"
          ]
        }
      ]
    },
    {
      "cell_type": "code",
      "execution_count": 7,
      "metadata": {
        "id": "aCE8BaWXxDHO"
      },
      "outputs": [],
      "source": [
        "import os #File path operations\n",
        "import numpy as np #Numeric Python\n",
        "import erfa #Essential Routines for Fundamental Astronomy\n",
        "import pandas as pd #Python Data Analysis Library\n",
        "import georinex #RINEX files reader\n",
        "import xarray as xa #Multi dimension arrays. For georinex\n",
        "import matplotlib.pyplot as plt #Plots\n",
        "import urllib.request #Downloader"
      ]
    },
    {
      "cell_type": "code",
      "source": [
        "link=\"https://geoftp.ibge.gov.br/informacoes_sobre_posicionamento_geodesico/rbmc/dados/2023/001/onrj0011.zip\"\n",
        "\n",
        "local_filename, headers = urllib.request.urlretrieve(link, zipFile)"
      ],
      "metadata": {
        "id": "50zGxkEFyejH"
      },
      "execution_count": null,
      "outputs": []
    }
  ]
}