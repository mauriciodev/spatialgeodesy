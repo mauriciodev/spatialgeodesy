{
 "cells": [
  {
   "cell_type": "markdown",
   "metadata": {},
   "source": [
    "<a href=\"https://colab.research.google.com/github/mauriciodev/spatialgeodesy/blob/main/exercises/spatialgeodesy_template.ipynb\" target=\"_parent\"><img src=\"https://colab.research.google.com/assets/colab-badge.svg\" alt=\"Open In Colab\"/></a>"
   ]
  },
  {
   "cell_type": "markdown",
   "metadata": {
    "id": "74NKQ7BnxNuR"
   },
   "source": [
    "# Installing useful packages"
   ]
  },
  {
   "cell_type": "code",
   "execution_count": 1,
   "metadata": {
    "colab": {
     "base_uri": "https://localhost:8080/"
    },
    "id": "xF-cZy5sxIxj",
    "outputId": "519e9513-58df-45a0-8dd6-c7bbc2204659"
   },
   "outputs": [
    {
     "name": "stdout",
     "output_type": "stream",
     "text": [
      "Looking in indexes: https://pypi.org/simple, https://us-python.pkg.dev/colab-wheels/public/simple/\n",
      "Collecting xarray==0.12.1\n",
      "  Downloading xarray-0.12.1-py2.py3-none-any.whl (522 kB)\n",
      "\u001b[2K     \u001b[90m━━━━━━━━━━━━━━━━━━━━━━━━━━━━━━━━━━━━━━━\u001b[0m \u001b[32m522.7/522.7 KB\u001b[0m \u001b[31m8.6 MB/s\u001b[0m eta \u001b[36m0:00:00\u001b[0m\n",
      "\u001b[?25hCollecting pandas==0.25.3\n",
      "  Downloading pandas-0.25.3-cp38-cp38-manylinux1_x86_64.whl (10.4 MB)\n",
      "\u001b[2K     \u001b[90m━━━━━━━━━━━━━━━━━━━━━━━━━━━━━━━━━━━━━━━━\u001b[0m \u001b[32m10.4/10.4 MB\u001b[0m \u001b[31m54.1 MB/s\u001b[0m eta \u001b[36m0:00:00\u001b[0m\n",
      "\u001b[?25hCollecting numpy==1.19.0\n",
      "  Downloading numpy-1.19.0-cp38-cp38-manylinux2010_x86_64.whl (14.6 MB)\n",
      "\u001b[2K     \u001b[90m━━━━━━━━━━━━━━━━━━━━━━━━━━━━━━━━━━━━━━━━\u001b[0m \u001b[32m14.6/14.6 MB\u001b[0m \u001b[31m18.3 MB/s\u001b[0m eta \u001b[36m0:00:00\u001b[0m\n",
      "\u001b[?25hCollecting georinex\n",
      "  Downloading georinex-1.16.1.tar.gz (41 kB)\n",
      "\u001b[2K     \u001b[90m━━━━━━━━━━━━━━━━━━━━━━━━━━━━━━━━━━━━━━━━\u001b[0m \u001b[32m41.6/41.6 KB\u001b[0m \u001b[31m2.3 MB/s\u001b[0m eta \u001b[36m0:00:00\u001b[0m\n",
      "\u001b[?25h  Installing build dependencies ... \u001b[?25l\u001b[?25hdone\n",
      "  Getting requirements to build wheel ... \u001b[?25l\u001b[?25hdone\n",
      "  Preparing metadata (pyproject.toml) ... \u001b[?25l\u001b[?25hdone\n",
      "Requirement already satisfied: python-dateutil>=2.6.1 in /usr/local/lib/python3.8/dist-packages (from pandas==0.25.3) (2.8.2)\n",
      "Requirement already satisfied: pytz>=2017.2 in /usr/local/lib/python3.8/dist-packages (from pandas==0.25.3) (2022.7.1)\n",
      "Collecting unlzw3\n",
      "  Downloading unlzw3-0.2.2-py3-none-any.whl (6.1 kB)\n",
      "Collecting hatanaka\n",
      "  Downloading hatanaka-2.8.0-py3-none-manylinux1_x86_64.whl (877 kB)\n",
      "\u001b[2K     \u001b[90m━━━━━━━━━━━━━━━━━━━━━━━━━━━━━━━━━━━━━━\u001b[0m \u001b[32m877.9/877.9 KB\u001b[0m \u001b[31m44.9 MB/s\u001b[0m eta \u001b[36m0:00:00\u001b[0m\n",
      "\u001b[?25hRequirement already satisfied: six>=1.5 in /usr/local/lib/python3.8/dist-packages (from python-dateutil>=2.6.1->pandas==0.25.3) (1.15.0)\n",
      "Collecting ncompress\n",
      "  Downloading ncompress-1.0.0-cp38-cp38-manylinux_2_17_x86_64.manylinux2014_x86_64.whl (893 kB)\n",
      "\u001b[2K     \u001b[90m━━━━━━━━━━━━━━━━━━━━━━━━━━━━━━━━━━━━━━\u001b[0m \u001b[32m893.2/893.2 KB\u001b[0m \u001b[31m40.8 MB/s\u001b[0m eta \u001b[36m0:00:00\u001b[0m\n",
      "\u001b[?25hRequirement already satisfied: importlib-resources in /usr/local/lib/python3.8/dist-packages (from hatanaka->georinex) (5.10.2)\n",
      "Requirement already satisfied: zipp>=3.1.0 in /usr/local/lib/python3.8/dist-packages (from importlib-resources->hatanaka->georinex) (3.12.0)\n",
      "Building wheels for collected packages: georinex\n",
      "  Building wheel for georinex (pyproject.toml) ... \u001b[?25l\u001b[?25hdone\n",
      "  Created wheel for georinex: filename=georinex-1.16.1-py3-none-any.whl size=43917 sha256=1c7bd7c4f24cbc9ad7e354fa35b47d0ad9e25ee993fc072ee06b2fd28a044f82\n",
      "  Stored in directory: /root/.cache/pip/wheels/9d/c1/98/bb2d8ce041d84ca7517d776d2007a56b0671151ce076c54ee5\n",
      "Successfully built georinex\n",
      "Installing collected packages: ncompress, unlzw3, numpy, pandas, hatanaka, xarray, georinex\n",
      "  Attempting uninstall: numpy\n",
      "    Found existing installation: numpy 1.21.6\n",
      "    Uninstalling numpy-1.21.6:\n",
      "      Successfully uninstalled numpy-1.21.6\n",
      "  Attempting uninstall: pandas\n",
      "    Found existing installation: pandas 1.3.5\n",
      "    Uninstalling pandas-1.3.5:\n",
      "      Successfully uninstalled pandas-1.3.5\n",
      "  Attempting uninstall: xarray\n",
      "    Found existing installation: xarray 2022.12.0\n",
      "    Uninstalling xarray-2022.12.0:\n",
      "      Successfully uninstalled xarray-2022.12.0\n",
      "\u001b[31mERROR: pip's dependency resolver does not currently take into account all the packages that are installed. This behaviour is the source of the following dependency conflicts.\n",
      "xarray-einstats 0.5.1 requires numpy>=1.20, but you have numpy 1.19.0 which is incompatible.\n",
      "xarray-einstats 0.5.1 requires xarray>=2022.09.0, but you have xarray 0.12.1 which is incompatible.\n",
      "tensorflow 2.9.2 requires numpy>=1.20, but you have numpy 1.19.0 which is incompatible.\n",
      "prophet 1.1.2 requires pandas>=1.0.4, but you have pandas 0.25.3 which is incompatible.\n",
      "plotnine 0.8.0 requires pandas>=1.1.0, but you have pandas 0.25.3 which is incompatible.\n",
      "mizani 0.7.3 requires pandas>=1.1.0, but you have pandas 0.25.3 which is incompatible.\n",
      "jaxlib 0.3.25+cuda11.cudnn805 requires numpy>=1.20, but you have numpy 1.19.0 which is incompatible.\n",
      "jax 0.3.25 requires numpy>=1.20, but you have numpy 1.19.0 which is incompatible.\n",
      "google-colab 1.0.0 requires pandas>=1.1.0, but you have pandas 0.25.3 which is incompatible.\n",
      "cmdstanpy 1.1.0 requires numpy>=1.21, but you have numpy 1.19.0 which is incompatible.\n",
      "arviz 0.12.1 requires xarray>=0.16.1, but you have xarray 0.12.1 which is incompatible.\u001b[0m\u001b[31m\n",
      "\u001b[0mSuccessfully installed georinex-1.16.1 hatanaka-2.8.0 ncompress-1.0.0 numpy-1.19.0 pandas-0.25.3 unlzw3-0.2.2 xarray-0.12.1\n"
     ]
    }
   ],
   "source": [
    "#These are required for georinex because some incompatibilities with newer xarray versions\n",
    "!pip install xarray==0.12.1 pandas==0.25.3 numpy==1.19.0 georinex "
   ]
  },
  {
   "cell_type": "markdown",
   "metadata": {
    "id": "1SpWFsa7WBpo"
   },
   "source": [
    "# Dependencies"
   ]
  },
  {
   "cell_type": "code",
   "execution_count": 2,
   "metadata": {
    "colab": {
     "base_uri": "https://localhost:8080/"
    },
    "id": "aCE8BaWXxDHO",
    "outputId": "0551cd72-35cb-4ff9-8e17-f21a7bdb86c7"
   },
   "outputs": [
    {
     "name": "stderr",
     "output_type": "stream",
     "text": [
      "/usr/local/lib/python3.8/dist-packages/xarray/core/merge.py:17: FutureWarning: The Panel class is removed from pandas. Accessing it from the top-level namespace will also be removed in the next version\n",
      "  PANDAS_TYPES = (pd.Series, pd.DataFrame, pd.Panel)\n"
     ]
    }
   ],
   "source": [
    "#Python standard libraries\n",
    "import os #File path operations.\n",
    "import shutil #Shell operations. Unzipping, moving files, etc.\n",
    "import urllib.request #Downloader.\n",
    "\n",
    "#External libraries\n",
    "import numpy as np #Numeric Python.\n",
    "import erfa #Essential Routines for Fundamental Astronomy.\n",
    "import pandas as pd #Python Data Analysis Library.\n",
    "import matplotlib.pyplot as plt #Plots.\n",
    "import georinex #RINEX files reader.\n",
    "import xarray as xa #Multi dimension arrays. For georinex.\n"
   ]
  },
  {
   "cell_type": "markdown",
   "metadata": {
    "id": "5krfTmdQzPrv"
   },
   "source": [
    "# Examples"
   ]
  },
  {
   "cell_type": "markdown",
   "metadata": {
    "id": "np2OwUPmzRaS"
   },
   "source": [
    "## Downloading a file"
   ]
  },
  {
   "cell_type": "code",
   "execution_count": 3,
   "metadata": {
    "colab": {
     "base_uri": "https://localhost:8080/"
    },
    "id": "Yp7QEPXTz9qv",
    "outputId": "141b37f4-1a2e-4c7d-b347-0e6a5f4dad3d"
   },
   "outputs": [
    {
     "data": {
      "text/plain": [
       "['.config',\n",
       " 'onrj0011.22n',\n",
       " 'onrj0011.zip',\n",
       " 'onrj0011.22g',\n",
       " 'onrj0011.22d',\n",
       " 'sample_data']"
      ]
     },
     "execution_count": 3,
     "metadata": {},
     "output_type": "execute_result"
    }
   ],
   "source": [
    "link=\"https://geoftp.ibge.gov.br/informacoes_sobre_posicionamento_geodesico/rbmc/dados/2022/001/onrj0011.zip\" #link to the file to be downloaded\n",
    "zipFile=link.split(\"/\")[-1] #name that will be used to save the file on the local drive\n",
    "local_filename, headers = urllib.request.urlretrieve(link, zipFile) #download the file saving as the name in zipFile\n",
    "shutil.unpack_archive(local_filename) #extrating files from the zip file\n",
    "os.listdir() #list current directory"
   ]
  },
  {
   "cell_type": "markdown",
   "metadata": {
    "id": "cpyd0HFx09Pf"
   },
   "source": [
    "## Opening the RINEX file with GeoRinex"
   ]
  },
  {
   "cell_type": "code",
   "execution_count": 4,
   "metadata": {
    "colab": {
     "base_uri": "https://localhost:8080/"
    },
    "id": "gwERw1K01Aid",
    "outputId": "c8189936-c0ad-4e97-88e7-b5261e93ebcb"
   },
   "outputs": [
    {
     "data": {
      "text/plain": [
       "<xarray.Dataset>\n",
       "Dimensions:  (sv: 31, time: 5760)\n",
       "Coordinates:\n",
       "  * sv       (sv) object 'G01' 'G02' 'G03' 'G04' ... 'G29' 'G30' 'G31' 'G32'\n",
       "  * time     (time) object 2022-01-01 ... 2022-01-01T23:59:45\n",
       "Data variables:\n",
       "    L1       (time, sv) float64 1.127e+08 nan 1.078e+08 ... nan 1.329e+08 nan\n",
       "    L2       (time, sv) float64 8.783e+07 nan 8.403e+07 ... nan 1.036e+08 nan\n",
       "    L5       (time, sv) float64 nan nan nan nan nan nan ... nan nan nan nan nan\n",
       "    C1       (time, sv) float64 2.145e+07 nan 2.052e+07 ... nan 2.529e+07 nan\n",
       "    P1       (time, sv) float64 nan nan nan nan nan nan ... nan nan nan nan nan\n",
       "    C2       (time, sv) float64 2.145e+07 nan 2.052e+07 ... nan 2.529e+07 nan\n",
       "    P2       (time, sv) float64 2.145e+07 nan 2.052e+07 ... nan 2.529e+07 nan\n",
       "    C5       (time, sv) float64 nan nan nan nan nan nan ... nan nan nan nan nan\n",
       "    S1       (time, sv) float64 47.6 nan 52.3 48.8 nan ... nan nan nan 31.6 nan\n",
       "    S2       (time, sv) float64 48.4 nan 52.1 48.6 nan ... nan nan nan 30.6 nan\n",
       "    S5       (time, sv) float64 nan nan nan nan nan nan ... nan nan nan nan nan\n",
       "Attributes:\n",
       "    version:          1.0\n",
       "    interval:         15.0\n",
       "    rinextype:        obs\n",
       "    fast_processing:  1\n",
       "    time_system:      GPS\n",
       "    filename:         onrj0011.22d\n",
       "    rxmodel:          TRIMBLE NETR8\n",
       "    position:         [4283638.3579, -4026028.8217, -2466096.8361]"
      ]
     },
     "execution_count": 4,
     "metadata": {},
     "output_type": "execute_result"
    }
   ],
   "source": [
    "#we are using rinex 2 because georinex is incredibly slow for rinex 3 currently.\n",
    "obsFile=\"onrj0011.22d\" #Observation RINEX file that we downloaded on the previous section. It's a multi GNSS file!\n",
    "obsData=georinex.load(obsFile,use='G')\n",
    "obsData\n",
    "     \n"
   ]
  },
  {
   "cell_type": "markdown",
   "metadata": {
    "id": "84KEmHeFUmV_"
   },
   "source": [
    "## Acessing the pseudorange of a SV"
   ]
  },
  {
   "cell_type": "code",
   "execution_count": 22,
   "metadata": {
    "colab": {
     "base_uri": "https://localhost:8080/",
     "height": 297
    },
    "id": "JFsdBAcJUlx-",
    "outputId": "3a7a8390-1d6d-4a8b-974f-21a4b0d90209"
   },
   "outputs": [
    {
     "data": {
      "image/png": "[encoded data removed]",
      "text/plain": [
       "<Figure size 432x288 with 1 Axes>"
      ]
     },
     "metadata": {
      "needs_background": "light"
     },
     "output_type": "display_data"
    }
   ],
   "source": [
    "y=obsData.sel(sv='G02') #Selects only the data for that spatial vehicle (SV)\n",
    "plt.plot(y.time,y.C1, label='SV G02 C1') #y.time is the sequence of timestamps. y.C1 represents the selected pseudorange (GPS band 1 pseudorange). \n",
    "plt.xticks(rotation=30) #Rotate the labels on xaxis\n",
    "plt.legend() #Add a legend\n",
    "plt.show() #Plot"
   ]
  },
  {
   "cell_type": "markdown",
   "metadata": {
    "id": "hdTWihbZWMYV"
   },
   "source": [
    "## Reading a navigation file"
   ]
  },
  {
   "cell_type": "code",
   "execution_count": 17,
   "metadata": {
    "colab": {
     "base_uri": "https://localhost:8080/"
    },
    "id": "TgH5K6qK2X1U",
    "outputId": "3360a1e3-aea9-4b24-f0b4-f5f6d788c8e1"
   },
   "outputs": [
    {
     "data": {
      "text/plain": [
       "<xarray.Dataset>\n",
       "Dimensions:           (sv: 32, time: 31)\n",
       "Coordinates:\n",
       "  * time              (time) datetime64[ns] 2022-01-01 ... 2022-01-01T23:59:44\n",
       "  * sv                (sv) <U3 'G01' 'G02' 'G03' 'G04' ... 'G30' 'G31' 'G32'\n",
       "Data variables:\n",
       "    SVclockBias       (time, sv) float64 0.0004691 -0.0006474 ... -4.397e-05\n",
       "    SVclockDrift      (time, sv) float64 -1e-11 -1.137e-12 ... -5.798e-12\n",
       "    SVclockDriftRate  (time, sv) float64 0.0 0.0 0.0 0.0 0.0 ... nan nan 0.0 0.0\n",
       "    IODE              (time, sv) float64 39.0 41.0 38.0 222.0 ... nan 15.0 57.0\n",
       "    Crs               (time, sv) float64 -141.1 -142.7 -59.75 ... -25.53 18.16\n",
       "    DeltaN            (time, sv) float64 3.988e-09 4.556e-09 ... 4.741e-09\n",
       "    M0                (time, sv) float64 -0.6243 -0.4532 -1.795 ... -1.698 2.335\n",
       "    Cuc               (time, sv) float64 -7.363e-06 -7.488e-06 ... 1.051e-06\n",
       "    Eccentricity      (time, sv) float64 0.01122 0.02064 ... 0.01047 0.005357\n",
       "    Cus               (time, sv) float64 4.696e-06 4.232e-06 ... 7.264e-06\n",
       "    sqrtA             (time, sv) float64 5.154e+03 5.154e+03 ... 5.154e+03\n",
       "    Toe               (time, sv) float64 5.184e+05 5.184e+05 ... 6.048e+05\n",
       "    Cic               (time, sv) float64 -3.166e-08 -2.589e-07 ... -8.941e-08\n",
       "    Omega0            (time, sv) float64 -1.037 -1.125 -0.001328 ... 2.117 1.037\n",
       "    Cis               (time, sv) float64 1.956e-07 1.229e-07 ... -1.732e-07\n",
       "    Io                (time, sv) float64 0.9864 0.9647 0.9724 ... 0.9549 0.9576\n",
       "    Crc               (time, sv) float64 299.8 303.6 151.0 ... nan 239.5 235.9\n",
       "    omega             (time, sv) float64 0.8841 -1.465 0.9848 ... 0.3606 -2.383\n",
       "    OmegaDot          (time, sv) float64 -8.134e-09 -8.69e-09 ... -7.925e-09\n",
       "    IDOT              (time, sv) float64 -3.779e-10 -2.622e-10 ... 7.257e-10\n",
       "    CodesL2           (time, sv) float64 1.0 1.0 1.0 1.0 1.0 ... nan nan 1.0 1.0\n",
       "    GPSWeek           (time, sv) float64 2.19e+03 2.19e+03 ... 2.19e+03 2.19e+03\n",
       "    L2Pflag           (time, sv) float64 0.0 0.0 0.0 0.0 0.0 ... nan nan 0.0 0.0\n",
       "    SVacc             (time, sv) float64 2.0 2.0 2.0 2.0 2.0 ... nan nan 2.0 2.0\n",
       "    health            (time, sv) float64 0.0 0.0 0.0 0.0 0.0 ... nan nan 0.0 0.0\n",
       "    TGD               (time, sv) float64 5.122e-09 -1.77e-08 ... 4.657e-10\n",
       "    IODC              (time, sv) float64 39.0 41.0 38.0 990.0 ... nan 15.0 57.0\n",
       "    TransTime         (time, sv) float64 5.172e+05 5.112e+05 ... 6.014e+05\n",
       "    FitIntvl          (time, sv) float64 4.0 4.0 4.0 4.0 4.0 ... nan nan 4.0 4.0\n",
       "Attributes:\n",
       "    version:    2.11\n",
       "    svtype:     ['G']\n",
       "    rinextype:  nav\n",
       "    filename:   onrj0011.22n"
      ]
     },
     "execution_count": 17,
     "metadata": {},
     "output_type": "execute_result"
    }
   ],
   "source": [
    "#we are using rinex 2 because georinex is incredibly slow for rinex 3 currently.\n",
    "navFile=\"onrj0011.22n\" #Navigation RINEX file that we downloaded on the previous section.!\n",
    "navData=georinex.load(navFile)\n",
    "navData"
   ]
  }
 ],
 "metadata": {
  "colab": {
   "provenance": []
  },
  "kernelspec": {
   "display_name": "Python 3 (ipykernel)",
   "language": "python",
   "name": "python3"
  },
  "language_info": {
   "codemirror_mode": {
    "name": "ipython",
    "version": 3
   },
   "file_extension": ".py",
   "mimetype": "text/x-python",
   "name": "python",
   "nbconvert_exporter": "python",
   "pygments_lexer": "ipython3",
   "version": "3.10.6"
  }
 },
 "nbformat": 4,
 "nbformat_minor": 1
}
