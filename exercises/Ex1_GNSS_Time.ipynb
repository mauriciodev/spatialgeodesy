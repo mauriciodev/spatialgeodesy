{
  "nbformat": 4,
  "nbformat_minor": 0,
  "metadata": {
    "colab": {
      "provenance": [],
      "authorship_tag": "ABX9TyPqRfkZ3+YCZ/pNQzYCqjuz",
      "include_colab_link": true
    },
    "kernelspec": {
      "name": "python3",
      "display_name": "Python 3"
    },
    "language_info": {
      "name": "python"
    }
  },
  "cells": [
    {
      "cell_type": "markdown",
      "metadata": {
        "id": "view-in-github",
        "colab_type": "text"
      },
      "source": [
        "<a href=\"https://colab.research.google.com/github/mauriciodev/spatialgeodesy/blob/main/exercises/Ex1_GNSS_Time.ipynb\" target=\"_parent\"><img src=\"https://colab.research.google.com/assets/colab-badge.svg\" alt=\"Open In Colab\"/></a>"
      ]
    },
    {
      "cell_type": "markdown",
      "source": [
        "# Exercise 1\n",
        "In this exercise we are going to use the Pandas library to calculate notable numbers for the GPS constellation. \n",
        "\n",
        "First, set currDate as your birthday in 2023 at 08:00 AM. Then compute the following:\n",
        "\n",
        "a) UTC \\\\\n",
        "b) TAI \\\\\n",
        "c) JD \\\\\n",
        "d) MJD \\\\\n",
        "e) tGPS (semana GPS e dia da semana GPS) \\\\\n",
        "f) Year with two digits \\\\\n",
        "g) Day of year\n",
        "\n",
        "Many hints were left on the code. Please fill the blanks and use these functions on the next exercises. \n",
        "\n",
        "Go to https://www.gnsscalendar.com/ , set the same time (UTC) on the site and check if the Pandas functions are working properly."
      ],
      "metadata": {
        "id": "25VEhfZ0gfI7"
      }
    },
    {
      "cell_type": "markdown",
      "source": [
        "# Libraries"
      ],
      "metadata": {
        "id": "Eo2XMKUThlOw"
      }
    },
    {
      "cell_type": "code",
      "source": [
        "import pandas as pd"
      ],
      "metadata": {
        "id": "QMyx38bYhnN_"
      },
      "execution_count": 1,
      "outputs": []
    },
    {
      "cell_type": "markdown",
      "source": [
        "# Set your birthday"
      ],
      "metadata": {
        "id": "firUTTcZhqrZ"
      }
    },
    {
      "cell_type": "code",
      "execution_count": 2,
      "metadata": {
        "colab": {
          "base_uri": "https://localhost:8080/"
        },
        "id": "T8IgxWcpemt0",
        "outputId": "c55b0363-5ef6-479d-8fe2-43af71fb03be"
      },
      "outputs": [
        {
          "output_type": "stream",
          "name": "stdout",
          "text": [
            "2023-06-13 08:00:00\n"
          ]
        }
      ],
      "source": [
        "birthDay=pd.to_datetime('2023-06-13 08:00') #CHANGE THIS VALUE\n",
        "print(birthDay)"
      ]
    },
    {
      "cell_type": "code",
      "source": [
        "timeZone=pd.Timedelta(-3,'h') #This value depends on the time zone that you are\n",
        "UTC=birthDay+timeZone\n",
        "print(\"UTC: \", UTC)"
      ],
      "metadata": {
        "colab": {
          "base_uri": "https://localhost:8080/"
        },
        "id": "GThGpxY6hyXG",
        "outputId": "b9a6b4ed-360a-4caa-c3b2-acf4ae17f892"
      },
      "execution_count": 3,
      "outputs": [
        {
          "output_type": "stream",
          "name": "stdout",
          "text": [
            "UTC:  2023-06-13 05:00:00\n"
          ]
        }
      ]
    },
    {
      "cell_type": "markdown",
      "source": [
        "# ATOMIC TIME\n",
        "Open IERS bulletin C:\n",
        "https://datacenter.iers.org/data/latestVersion/bulletinC.txt"
      ],
      "metadata": {
        "id": "TPP2cScyoHOq"
      }
    },
    {
      "cell_type": "code",
      "source": [
        "#Please check if this value is the same on the current bulletin.\n",
        "#CHANGE THIS VALUE.\n",
        "UTC_TAI= -31 #UTC-TAI on the bulletin.\n",
        "TAI=UTC+pd.Timedelta(-UTC_TAI ,'s')\n",
        "print(\"TAI: \",TAI)\n",
        "gps=TAI-pd.Timedelta(19,'s')\n",
        "print(\"GPS time:\", gps)"
      ],
      "metadata": {
        "colab": {
          "base_uri": "https://localhost:8080/"
        },
        "id": "1IiGhTDkl3TV",
        "outputId": "1232ff50-d057-492e-fff6-e5c091cb98ce"
      },
      "execution_count": 11,
      "outputs": [
        {
          "output_type": "stream",
          "name": "stdout",
          "text": [
            "TAI:  2023-06-13 05:00:31\n",
            "GPS time: 2023-06-13 05:00:12\n"
          ]
        }
      ]
    },
    {
      "cell_type": "code",
      "source": [
        "print(\"Decimal julian day:\", gps.to_julian_date())\n",
        "#Note that we are counting hours in this function. What would happen if we considered only the date part? How would you do that?"
      ],
      "metadata": {
        "colab": {
          "base_uri": "https://localhost:8080/"
        },
        "id": "vG3s8c48jEmm",
        "outputId": "ccabe6f0-0a03-4952-ee65-141b8035d1e8"
      },
      "execution_count": 5,
      "outputs": [
        {
          "output_type": "stream",
          "name": "stdout",
          "text": [
            "Decimal julian day: 2460108.7086921297\n"
          ]
        }
      ]
    },
    {
      "cell_type": "code",
      "source": [
        "#GPS week\n",
        "gps_t0=pd.to_datetime('1980-01-06 00:00:00')\n",
        "deltaDate=gps - gps_t0\n",
        "print(\"Time since last GPS time update.\",deltaDate)\n",
        "gpsWeek=deltaDate.days//7 #integer division\n",
        "print(\"GPS week\", gpsWeek)\n",
        "dayOfWeek= deltaDate.days % 7\n",
        "print(\"Day of GPS week:\", dayOfWeek)\n",
        "print(\"GPS weeknumber: \", gpsWeek*10+dayOfWeek )"
      ],
      "metadata": {
        "colab": {
          "base_uri": "https://localhost:8080/"
        },
        "id": "9uEokHbokqbo",
        "outputId": "af4807b2-4eae-4649-964e-9d0a237f44c6"
      },
      "execution_count": 6,
      "outputs": [
        {
          "output_type": "stream",
          "name": "stdout",
          "text": [
            "Time since last GPS time update. 15864 days 05:00:31\n",
            "GPS week 2266\n",
            "Day of GPS week: 2\n",
            "GPS weeknumber:  22662\n"
          ]
        }
      ]
    },
    {
      "cell_type": "code",
      "source": [
        "print(\"Year\", gps.year)\n",
        "print(\"Two digit year\", gps.year % 100)"
      ],
      "metadata": {
        "colab": {
          "base_uri": "https://localhost:8080/"
        },
        "id": "f68MhNSOuDry",
        "outputId": "2ee4f881-2aad-4dd0-ca04-2219b6a849a8"
      },
      "execution_count": 7,
      "outputs": [
        {
          "output_type": "stream",
          "name": "stdout",
          "text": [
            "Year 2023\n",
            "Two digit year 23\n"
          ]
        }
      ]
    },
    {
      "cell_type": "code",
      "source": [
        "print(\"Day of week\", gps.day_of_week)\n",
        "print(\"Day of year:\", gps.day_of_year)\n"
      ],
      "metadata": {
        "colab": {
          "base_uri": "https://localhost:8080/"
        },
        "id": "YU3tsADMj5IF",
        "outputId": "94c688a9-9a36-4649-db82-1dcdbe4ba123"
      },
      "execution_count": 8,
      "outputs": [
        {
          "output_type": "stream",
          "name": "stdout",
          "text": [
            "Day of week 1\n",
            "Day of year: 164\n"
          ]
        }
      ]
    },
    {
      "cell_type": "markdown",
      "source": [
        "Now, compute the seconds since the beginning of the GPS week using gps time. (Suggestion: use time delta and the midnight variable)"
      ],
      "metadata": {
        "id": "qK3aqPwCwIZs"
      }
    },
    {
      "cell_type": "code",
      "source": [
        "midnight=gps.replace(second=0, hour=0, minute=0)\n",
        "#PLEASE FILL THIS PART OF THE CODE\n",
        "\n",
        "gpsWeekSeconds=\n",
        "\n",
        "print(\"GPS week seconds: \", gpsWeekSeconds)"
      ],
      "metadata": {
        "colab": {
          "base_uri": "https://localhost:8080/",
          "height": 137
        },
        "id": "N9XBDTtFwVsV",
        "outputId": "e7f73966-e10e-4ddc-89ea-58b13d6b33ac"
      },
      "execution_count": 9,
      "outputs": [
        {
          "output_type": "error",
          "ename": "SyntaxError",
          "evalue": "ignored",
          "traceback": [
            "\u001b[0;36m  File \u001b[0;32m\"<ipython-input-9-cca4de66cd59>\"\u001b[0;36m, line \u001b[0;32m4\u001b[0m\n\u001b[0;31m    gpsWeekSeconds=\u001b[0m\n\u001b[0m                   ^\u001b[0m\n\u001b[0;31mSyntaxError\u001b[0m\u001b[0;31m:\u001b[0m invalid syntax\n"
          ]
        }
      ]
    }
  ]
}