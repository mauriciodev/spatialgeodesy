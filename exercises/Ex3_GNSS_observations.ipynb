{
  "cells": [
    {
      "cell_type": "markdown",
      "metadata": {
        "id": "view-in-github",
        "colab_type": "text"
      },
      "source": [
        "<a href=\"https://colab.research.google.com/github/mauriciodev/spatialgeodesy/blob/main/exercises/Ex3_GNSS_observations.ipynb\" target=\"_parent\"><img src=\"https://colab.research.google.com/assets/colab-badge.svg\" alt=\"Open In Colab\"/></a>"
      ]
    },
    {
      "cell_type": "markdown",
      "metadata": {
        "id": "18bJ_O5-p7hM"
      },
      "source": [
        "# Exercise 3 - GNSS Observations\n",
        "\n",
        "In this exercise we are going to download two observation RINEX files (versions 2 and 3) from IBGE's RBMC (Rede Brasileira de Monitoramento Contínuo), open with the Georinex library and plot the differences between the pseudodistance and carrier phase.\n",
        "In this exercise you're going to use the RINEX version 2 code as example and write the version 3 code."
      ]
    },
    {
      "cell_type": "markdown",
      "metadata": {
        "id": "zx4XB6-cEE4C"
      },
      "source": [
        "# Preparation"
      ]
    },
    {
      "cell_type": "markdown",
      "metadata": {
        "id": "y3Zi1M0ga8aQ"
      },
      "source": [
        "## Installing dependencies"
      ]
    },
    {
      "cell_type": "code",
      "metadata": {
        "id": "rBZEYgtMh4n7"
      },
      "source": [
        "#Python standard libraries\n",
        "import os #File path operations.\n",
        "import shutil #Shell operations. Unzipping, moving files, etc.\n",
        "import urllib.request #Downloader.\n",
        "\n",
        "#External libraries\n",
        "import numpy as np #Numeric Python.\n",
        "import pandas as pd #Python Data Analysis Library.\n",
        "import matplotlib.pyplot as plt #Plots.\n",
        "import xarray as xa #Multi dimension arrays. For georinex."
      ],
      "execution_count": null,
      "outputs": []
    },
    {
      "cell_type": "code",
      "metadata": {
        "id": "RGUTL9SSeUuS"
      },
      "source": [
        "# Installing the package that reads rinex and sp3 files\n",
        "!pip install georinex\n",
        "# The speed for loading RINEX 3 files on current georinex is terrible.\n",
        "import georinex"
      ],
      "execution_count": null,
      "outputs": []
    },
    {
      "cell_type": "markdown",
      "metadata": {
        "id": "g-GaTxtlplah"
      },
      "source": [
        "# Input parameters"
      ]
    },
    {
      "cell_type": "markdown",
      "source": [
        "Go to http://www.bdg.ibge.gov.br/appbdg/ , turn on RBMC in \"Camadas\" and choose one station. Change the value of the \"station\" variable for your chosen station."
      ],
      "metadata": {
        "id": "LXPZxg2TsqUH"
      }
    },
    {
      "cell_type": "code",
      "metadata": {
        "id": "uqd0mJEaf1tN"
      },
      "source": [
        "#This is the reference time. We are going to use it to download the files.\n",
        "t = pd.to_datetime('2023-01-01 02:00:01')\n",
        "station=\"RJNI\" #This is the station."
      ],
      "execution_count": null,
      "outputs": []
    },
    {
      "cell_type": "code",
      "source": [
        "year = t.year\n",
        "dayOfYear = t.day_of_year\n",
        "twoDigitYear = t.year %100\n",
        "\n",
        "#File name is based on the Day of Year\n",
        "#formatiing with previous variables. Note the :03 on each variable to fill with leading zeros.\n",
        "url_v2=f\"https://geoftp.ibge.gov.br/informacoes_sobre_posicionamento_geodesico/rbmc/dados/{year}/{dayOfYear:03}/{station.lower()}{dayOfYear:03}1.zip\"\n",
        "print(\"URL for the version 2 RINEX file:\", url_v2)"
      ],
      "metadata": {
        "id": "99EQLVh8VPC5"
      },
      "execution_count": null,
      "outputs": []
    },
    {
      "cell_type": "markdown",
      "source": [
        "Please go to https://geoftp.ibge.gov.br/informacoes_sobre_posicionamento_geodesico/rbmc/ to understand how the RBMC data is provided."
      ],
      "metadata": {
        "id": "PHNCJSAor7o3"
      }
    },
    {
      "cell_type": "markdown",
      "metadata": {
        "id": "EXGXdNdBh0Cz"
      },
      "source": [
        "## Downloading the receiver's observation file"
      ]
    },
    {
      "cell_type": "code",
      "metadata": {
        "id": "xxXY_CbihYrS"
      },
      "source": [
        "#splitting the file name from the URL\n",
        "obsRinexFile_v2=os.path.split(url_v2)[1]\n",
        "urllib.request.urlretrieve(url_v2, obsRinexFile_v2) #download the file saving as the name in obsRinexFile_v2\n",
        "print(obsRinexFile_v2)"
      ],
      "execution_count": null,
      "outputs": []
    },
    {
      "cell_type": "markdown",
      "source": [
        "# Rinex version 2 file"
      ],
      "metadata": {
        "id": "Cpdef3IBp5DL"
      }
    },
    {
      "cell_type": "code",
      "source": [
        "# the ! prefix runs the commands on a linux shell. So we can use both python and shell commands on this notebook.\n",
        "import shutil #Shell operations. Unzipping, moving files, etc.\n",
        "shutil.unpack_archive(obsRinexFile_v2)\n",
        "uncompressed=obsRinexFile_v2[:-3]\n",
        "\n",
        "for f in os.listdir(): print(f) #listing files in the current directory"
      ],
      "metadata": {
        "id": "baxmOOGZXJoX"
      },
      "execution_count": null,
      "outputs": []
    },
    {
      "cell_type": "code",
      "source": [
        "obsFile_v2=obsRinexFile_v2[:-3]+f\"{twoDigitYear}d\"\n",
        "print(\"Observation file: \", obsFile_v2)"
      ],
      "metadata": {
        "id": "z8C1VQTKj2bk"
      },
      "execution_count": null,
      "outputs": []
    },
    {
      "cell_type": "markdown",
      "source": [
        "## Showing the first 30 lines of the observation file"
      ],
      "metadata": {
        "id": "JtZ0_FxpXu0Q"
      }
    },
    {
      "cell_type": "code",
      "source": [
        "with open(obsFile_v2) as f:\n",
        "  #printing the first 30 lines of the rinex file.\n",
        "  print(''.join(f.readlines()[:30]))\n",
        "  #Note that f.readlines() returns a list."
      ],
      "metadata": {
        "id": "NYNWk__lkHNh"
      },
      "execution_count": null,
      "outputs": []
    },
    {
      "cell_type": "markdown",
      "source": [
        "Note that on RINEX 2 the file ending with \"d\" is the multignss data, but it doesn't have all the systems.\n",
        "We can't read anything because it's in Hatanaka compressed RINEX format. Converting it to regular RINEX files require the hatanaka program, that is included with Georinex."
      ],
      "metadata": {
        "id": "0j4NBZgQjo0w"
      }
    },
    {
      "cell_type": "code",
      "execution_count": null,
      "metadata": {
        "id": "RUvm_xIaku60"
      },
      "outputs": [],
      "source": [
        "#reading a single constellation is A LOT faster in Georinex\n",
        "obsData=georinex.load(obsFile_v2, use='G')\n",
        "obsData"
      ]
    },
    {
      "cell_type": "markdown",
      "source": [
        "Take your time to inspect the data above. \\\n",
        "The \"coordinates\" show that observations can be selected using sv (spatial vehicle) and time. \\\n",
        "The \"Data variables\" show that we have psudoranges (Ex.: C1, P1), carrier phase (Ex.: L1) and signal strength (Ex.: S1)\n",
        "Note that because this is a multiGNSS file, there is a lot of nan (missing values). For example, GPS satellites only provide data on bands 1, 2 and 5, so C7 measures will be nan."
      ],
      "metadata": {
        "id": "7pgzC_bpl9ry"
      }
    },
    {
      "cell_type": "markdown",
      "source": [
        "## Plotting GPS satellite 1 measures"
      ],
      "metadata": {
        "id": "eRvT1I4tnMzP"
      }
    },
    {
      "cell_type": "markdown",
      "source": [
        "Here we are going to filter the observation file and select only one vehicle."
      ],
      "metadata": {
        "id": "XbTHCsVqnSeJ"
      }
    },
    {
      "cell_type": "code",
      "source": [
        "sv='G01'\n",
        "obsData.sel(sv=sv).C1"
      ],
      "metadata": {
        "id": "golnhscYn9SM"
      },
      "execution_count": null,
      "outputs": []
    },
    {
      "cell_type": "code",
      "execution_count": null,
      "metadata": {
        "id": "uwc94skyAysb"
      },
      "outputs": [],
      "source": [
        "sv='G01'\n",
        "plt.plot(obsData.sel(sv=sv).C1, label=\"Pseudorange Band 1\")\n",
        "plt.plot(obsData.sel(sv=sv).C2, label=\"Pseudorange Band 2\")\n",
        "plt.plot(obsData.sel(sv=sv).L1, label=\"Phase Band 1\")\n",
        "plt.plot(obsData.sel(sv=sv).L2, label=\"Phase Band 2\")\n",
        "plt.xlabel(\"Seconds of the day\")\n",
        "plt.ylabel(\"Distance measured\")\n",
        "plt.title(f\"Vehicle: {sv}\")\n",
        "plt.legend(loc='center left', bbox_to_anchor=(1, 0.5))\n",
        "plt.plot()"
      ]
    },
    {
      "cell_type": "code",
      "source": [
        "sv='G01'\n",
        "plt.plot(obsData.sel(sv=sv).C1-obsData.sel(sv=sv).C2, label=\"Difference C1-C2\")\n",
        "plt.xlabel(\"Seconds of the day\")\n",
        "plt.ylabel(\"Difference (m)\")\n",
        "plt.title(f\"Vehicle:{sv}\")\n",
        "plt.legend(loc='center left', bbox_to_anchor=(1, 0.5))\n",
        "plt.plot()"
      ],
      "metadata": {
        "id": "aGUoeR3voqO0"
      },
      "execution_count": null,
      "outputs": []
    },
    {
      "cell_type": "markdown",
      "source": [
        "# **Rinex version 3 file (Please fill this part)**"
      ],
      "metadata": {
        "id": "e39Kcg_mlglA"
      }
    },
    {
      "cell_type": "code",
      "source": [
        "url_v3=f\"https://geoftp.ibge.gov.br/informacoes_sobre_posicionamento_geodesico/rbmc/dados_RINEX3/{year}/{dayOfYear:03}/{station.upper()}00BRA_R_{year}{dayOfYear:03}0000_01D_15S_MO.crx.gz\"\n",
        "print(\"URL for the version 3 RINEX file:\", url_v3)"
      ],
      "metadata": {
        "id": "aF9NRjxAqjIS"
      },
      "execution_count": null,
      "outputs": []
    },
    {
      "cell_type": "code",
      "source": [
        "obsRinexFile_v3=os.path.split(url_v3)[1]\n",
        "urllib.request.urlretrieve(url_v3, obsRinexFile_v3) #download the file saving as the name in obsRinexFile_v3\n",
        "print(obsRinexFile_v3)"
      ],
      "metadata": {
        "id": "Onsc6Sn7qvvd"
      },
      "execution_count": null,
      "outputs": []
    },
    {
      "cell_type": "code",
      "source": [
        "#reading a single constellation is A LOT faster in Georinex, but still slow in RINEX 3\n",
        "obsData=georinex.load(obsRinexFile_v3, use='G')\n",
        "obsData"
      ],
      "metadata": {
        "id": "D48c2soCp-bV"
      },
      "execution_count": null,
      "outputs": []
    },
    {
      "cell_type": "markdown",
      "source": [
        "Plot the same graphs that we plotted with the Version 2 file.\n",
        "Using: C1C, C2W, L1C, L2W"
      ],
      "metadata": {
        "id": "C3i4QL1VtTaL"
      }
    }
  ],
  "metadata": {
    "colab": {
      "provenance": [],
      "include_colab_link": true
    },
    "kernelspec": {
      "display_name": "Python 3 (ipykernel)",
      "language": "python",
      "name": "python3"
    },
    "language_info": {
      "codemirror_mode": {
        "name": "ipython",
        "version": 3
      },
      "file_extension": ".py",
      "mimetype": "text/x-python",
      "name": "python",
      "nbconvert_exporter": "python",
      "pygments_lexer": "ipython3",
      "version": "3.10.6"
    }
  },
  "nbformat": 4,
  "nbformat_minor": 0
}