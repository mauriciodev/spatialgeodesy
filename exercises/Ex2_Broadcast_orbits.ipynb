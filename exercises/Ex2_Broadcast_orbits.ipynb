{
  "nbformat": 4,
  "nbformat_minor": 0,
  "metadata": {
    "colab": {
      "provenance": [],
      "authorship_tag": "ABX9TyPOS0joS0elH1RHymLNHhBs",
      "include_colab_link": true
    },
    "kernelspec": {
      "name": "python3",
      "display_name": "Python 3"
    },
    "language_info": {
      "name": "python"
    }
  },
  "cells": [
    {
      "cell_type": "markdown",
      "metadata": {
        "id": "view-in-github",
        "colab_type": "text"
      },
      "source": [
        "<a href=\"https://colab.research.google.com/github/mauriciodev/spatialgeodesy/blob/main/exercises/Ex2_Broadcast_orbits.ipynb\" target=\"_parent\"><img src=\"https://colab.research.google.com/assets/colab-badge.svg\" alt=\"Open In Colab\"/></a>"
      ]
    },
    {
      "cell_type": "markdown",
      "source": [
        "# Exercise 2 - Compute satellite coordinates from the navigation file\n",
        "\n",
        "In this exercise we are going to download a navigation RINEX file, open it with the Georinex library and compute the coordinates of one satellite at a given time. The files are obtained from BKG, one of the International GNSS Service (IGS) data centers."
      ],
      "metadata": {
        "id": "BeQ8l4n_UH0K"
      }
    },
    {
      "cell_type": "markdown",
      "metadata": {
        "id": "zx4XB6-cEE4C"
      },
      "source": [
        "# Preparation"
      ]
    },
    {
      "cell_type": "markdown",
      "metadata": {
        "id": "y3Zi1M0ga8aQ"
      },
      "source": [
        "## Installing dependencies"
      ]
    },
    {
      "cell_type": "code",
      "metadata": {
        "id": "rBZEYgtMh4n7"
      },
      "source": [
        "#Python standard libraries\n",
        "import os #File path operations.\n",
        "import shutil #Shell operations. Unzipping, moving files, etc.\n",
        "import urllib.request #Downloader.\n",
        "\n",
        "#External libraries\n",
        "import numpy as np #Numeric Python.\n",
        "import pandas as pd #Python Data Analysis Library.\n",
        "import matplotlib.pyplot as plt #Plots.\n",
        "import xarray as xa #Multi dimension arrays. For georinex."
      ],
      "execution_count": null,
      "outputs": []
    },
    {
      "cell_type": "code",
      "metadata": {
        "id": "RGUTL9SSeUuS"
      },
      "source": [
        "#Installing the package that reads rinex and sp3 files\n",
        "#!pip install --upgrade pip\n",
        "!pip install git+https://github.com/geospace-code/georinex\n",
        "#brute force fix for a bug in keplerian.py\n",
        "!sed -i -e 's/sv\\[\"sv\"\\] in {\\\"R\\\", \\\"S\\\"}/sv\\[\"sv\"\\] in (\"R\", \"S\")/g' /usr/local/lib/python3.10/dist-packages/georinex/keplerian.py\n",
        "import georinex"
      ],
      "execution_count": null,
      "outputs": []
    },
    {
      "cell_type": "markdown",
      "metadata": {
        "id": "g-GaTxtlplah"
      },
      "source": [
        "# Input parameters"
      ]
    },
    {
      "cell_type": "code",
      "metadata": {
        "id": "aR0afvgevvRw"
      },
      "source": [
        "#This is the reference time. We are going to use it to download the navigation files and compute the orbital position.\n",
        "t = pd.to_datetime('2023-01-01 02:00:01')"
      ],
      "execution_count": null,
      "outputs": []
    },
    {
      "cell_type": "code",
      "source": [
        "#CHANGE THIS: Use the code from the previous exercises to compute\n",
        "year = t.year\n",
        "dayOfYear = t.day_of_year\n",
        "twoDigitYear = t.year %100\n",
        "\n",
        "#File name is based on the Day of Year\n",
        "#formatiing with previous variables. Note the :03 on each variable to fill with leading zeros.\n",
        "#https://igs.bkg.bund.de/root_ftp/IGS/BRDC/2022/001/brdc0010.22n.gz\n",
        "navigation_file_url=f\"https://igs.bkg.bund.de/root_ftp/IGS/BRDC/{year}/{dayOfYear:03}/brdc{dayOfYear:03}0.{twoDigitYear}n.gz\"\n",
        "print(navigation_file_url)"
      ],
      "metadata": {
        "id": "99EQLVh8VPC5"
      },
      "execution_count": null,
      "outputs": []
    },
    {
      "cell_type": "markdown",
      "metadata": {
        "id": "iUq3--jBD8uw"
      },
      "source": [
        "## Downloading the broadcast Navigation File"
      ]
    },
    {
      "cell_type": "code",
      "metadata": {
        "id": "xxXY_CbihYrS"
      },
      "source": [
        "#splitting the file name from the URL\n",
        "navRinexFile=os.path.split(navigation_file_url)[1]\n",
        "local_filename, headers = urllib.request.urlretrieve(navigation_file_url, navRinexFile) #download the file saving as the name in zipFile\n",
        "print(local_filename)"
      ],
      "execution_count": null,
      "outputs": []
    },
    {
      "cell_type": "markdown",
      "source": [
        "# Showing the first 20 lines of the navigation file"
      ],
      "metadata": {
        "id": "JtZ0_FxpXu0Q"
      }
    },
    {
      "cell_type": "code",
      "source": [
        "# the ! prefix runs the commands on a linux shell. So we can use both python and shell commands on this notebook.\n",
        "!uncompress $navRinexFile -k\n",
        "uncompressed=navRinexFile[:-3]\n",
        "!head -n 20  $uncompressed"
      ],
      "metadata": {
        "id": "baxmOOGZXJoX"
      },
      "execution_count": null,
      "outputs": []
    },
    {
      "cell_type": "markdown",
      "source": [
        "# Opening the navigation file with Georinex"
      ],
      "metadata": {
        "id": "IUjD3vA0W2Uv"
      }
    },
    {
      "cell_type": "code",
      "metadata": {
        "id": "RKHg2prcfT4x"
      },
      "source": [
        "nav = georinex.rinexnav(navRinexFile)\n",
        "#Let's see the data that was read\n",
        "nav"
      ],
      "execution_count": null,
      "outputs": []
    },
    {
      "cell_type": "markdown",
      "source": [
        "# Selecting subsets of the navigation file\n",
        "Here we are selecting the Spatial Vehicle G01 (GPS), at the time previously specified in t. The method \"pad\" brings the \"latest\" orbit. Check the time of the orbit that we found on the \"Coordinates\" section. The orbital parameters are in the \"Data variables\"."
      ],
      "metadata": {
        "id": "wiUNX85wLWap"
      }
    },
    {
      "cell_type": "code",
      "source": [
        "sat='G01'\n",
        "orbit=nav.sel(sv=sat,time=t, method=\"pad\")\n",
        "orbit"
      ],
      "metadata": {
        "id": "xRPHaYwYXz9h"
      },
      "execution_count": null,
      "outputs": []
    },
    {
      "cell_type": "markdown",
      "source": [
        "# Implement the orbit calculation.\n",
        "Now follow the formulas on the slides to implement the orbit calculation using the information of G01 at the given time t. Note that t is not the beginning of the orbit period and Toe (time of ephemeris) is counted in seconds of the GPS week."
      ],
      "metadata": {
        "id": "pXOUBavFT2_-"
      }
    },
    {
      "cell_type": "code",
      "source": [
        "from numpy import sin, cos, arctan, sqrt #useful math functions\n",
        "#CHANGE THIS: orbit calculation is unfinished. If you\n",
        "earthrate = 7.2921151467e-5 #This is default bOMEGAE84\n",
        "bGM84 = 3.986005e14 #GM\n",
        "\n",
        "A=orbit.sqrtA**2 #the nav file provided the square root instead of A\n",
        "\n",
        "print(\"A:\",A.to_numpy())\n",
        "\n",
        "print(\"Satellite position: \",satX,satY,satZ)"
      ],
      "metadata": {
        "id": "qrF3eApQYSWb"
      },
      "execution_count": null,
      "outputs": []
    },
    {
      "cell_type": "code",
      "source": [
        "#GPS time of week. You can use your own function from last exercise, if you prefer.\n",
        "gps_t0=pd.to_datetime('1980-01-06 00:00:00')\n",
        "deltaDate=t - gps_t0\n",
        "dayOfWeek= deltaDate.days % 7\n",
        "t_midnight=t.replace(hour=0, minute=0, second=0)\n",
        "secondsOfGPSWeek=(t-t_midnight).seconds+dayOfWeek*24*60*60\n",
        "print(\"t in seconds of GPS week\", secondsOfGPSWeek, \"TOE:\", orbit.Toe.to_numpy())"
      ],
      "metadata": {
        "id": "EL-Ci0YP47Wm"
      },
      "execution_count": null,
      "outputs": []
    },
    {
      "cell_type": "markdown",
      "source": [
        "# Orbit calculation with Georinex's function"
      ],
      "metadata": {
        "id": "WlHDhvxBbRLk"
      }
    },
    {
      "cell_type": "code",
      "source": [
        "orbit['time']=[t] #We are now chaning the \"time\" dimension so that the orbit is calculated on a different time.\n",
        "orbit"
      ],
      "metadata": {
        "id": "qvMkoAZyfMe4"
      },
      "execution_count": null,
      "outputs": []
    },
    {
      "cell_type": "code",
      "source": [
        "#Check the code on the link to understand a bit how georinex compute the keplerian orbit\n",
        "#https://github.com/geospace-code/georinex/blob/main/src/georinex/keplerian.py\n",
        "x, y, z = georinex.keplerian2ecef(orbit)\n",
        "print(x,y,z)"
      ],
      "metadata": {
        "id": "47axhpcQcpBE"
      },
      "execution_count": null,
      "outputs": []
    },
    {
      "cell_type": "markdown",
      "source": [
        "# How far are your coordinates from Georinex's orbit?"
      ],
      "metadata": {
        "id": "ieXRds9i8k8f"
      }
    }
  ]
}